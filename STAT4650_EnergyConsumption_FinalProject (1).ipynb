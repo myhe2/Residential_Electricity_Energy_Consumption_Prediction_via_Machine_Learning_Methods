{
 "cells": [
  {
   "cell_type": "code",
   "execution_count": 1,
   "id": "753d7be2",
   "metadata": {},
   "outputs": [],
   "source": [
    "#Importing the required packages\n",
    "import pandas as pd\n",
    "import numpy as np\n",
    "import seaborn as sns\n",
    "from sklearn.model_selection import train_test_split\n",
    "import matplotlib.pyplot as plt\n",
    "import statsmodels.api as sm\n",
    "from statsmodels.stats.outliers_influence import variance_inflation_factor\n",
    "from sklearn import metrics\n",
    "from sklearn.neighbors import KNeighborsRegressor\n",
    "import sklearn.tree as st\n",
    "from sklearn.linear_model import Lasso\n",
    "from sklearn.linear_model import Ridge\n",
    "import xgboost as xgb \n",
    "import statsmodels.formula.api as smf\n",
    "import patsy\n",
    "import matplotlib.ticker as ticker\n",
    "import sklearn.ensemble as se"
   ]
  },
  {
   "cell_type": "code",
   "execution_count": 2,
   "id": "6b300572",
   "metadata": {},
   "outputs": [],
   "source": [
    "#Reading the File\n",
    "df = pd.read_csv(r\"C:\\Users\\yasha\\Desktop\\Semester 2\\ML\\Project\\recs2015_public_v4.csv\")"
   ]
  },
  {
   "cell_type": "code",
   "execution_count": 3,
   "id": "f65faf50",
   "metadata": {},
   "outputs": [
    {
     "data": {
      "text/plain": [
       "(5686, 759)"
      ]
     },
     "execution_count": 3,
     "metadata": {},
     "output_type": "execute_result"
    }
   ],
   "source": [
    "#Shape Information of the Dataset\n",
    "df.shape"
   ]
  },
  {
   "cell_type": "code",
   "execution_count": 4,
   "id": "deefef52",
   "metadata": {},
   "outputs": [
    {
     "name": "stdout",
     "output_type": "stream",
     "text": [
      "Number of Numerical features:  755\n",
      "Number of Categorical features:  4\n"
     ]
    }
   ],
   "source": [
    "#Number of Numerical and Categorical columns in the Dataset\n",
    "numerical_feats = df.dtypes[df.dtypes != \"object\"].index\n",
    "print(\"Number of Numerical features: \", len(numerical_feats))\n",
    "\n",
    "categorical_feats = df.dtypes[df.dtypes == \"object\"].index\n",
    "print(\"Number of Categorical features: \", len(categorical_feats))"
   ]
  },
  {
   "cell_type": "code",
   "execution_count": 5,
   "id": "d66695bb",
   "metadata": {},
   "outputs": [],
   "source": [
    "#Removing imputation flag columns and other redundant columns\n",
    "df = df.loc[:,~ df.columns.str.startswith('Z')]\n",
    "df = df.loc[:,~ df.columns.str.startswith('BRR')]"
   ]
  },
  {
   "cell_type": "code",
   "execution_count": 6,
   "id": "c165d4db",
   "metadata": {
    "scrolled": true
   },
   "outputs": [],
   "source": [
    "#Filtering out some columns based on domain knowledge\n",
    "df1 = df.filter(items =['DOEID', 'REGIONC', 'DIVISION', 'METROMICRO', 'UATYP10', 'TYPEHUQ', 'UGASHERE', 'STORIES', 'TOTROOMS', 'POOL', 'FUELPOOL', 'RECBATH', 'FUELTUB', 'NUMFRIG', 'SIZRFRI1', 'NUMFREEZ', 'STOVEN', 'STOVENFUEL', 'DUALCOOKTFUEL', 'DUALOVENFUEL', 'COOKTUSE', 'OVENUSE', 'STOVE', 'STOVEFUEL', 'SEPCOOKTUSE', 'OVEN', 'OVENFUEL', 'SEPOVENUSE', 'MICRO', 'AMTMICRO', 'NUMMEAL', 'DISHWASH', 'DWASHUSE', 'DWCYCLE', 'TVCOLOR', 'EQUIPM', 'FUELHEAT', 'AIRCOND', 'FUELH2O', 'FUELH2O2', 'SMARTTHERM', 'NOHEATBROKE', 'NOHEATEL', 'NOHEATNG', 'NOHEATBULK', 'NOACBROKE', 'NOACEL', 'USEEL', 'ELWARM', 'ELCOOL', 'ELWATER', 'ELFOOD', 'ELOTHER', 'CLIMATE_REGION_PUB','IECC_CLIMATE_PUB', 'KWHSPH', 'KWHCOL', 'KWHWTH', 'KWHRFG', 'KWHRFG1', 'KWHRFG2', 'KWHFRZ', 'KWHCOK', 'KWHMICRO', 'KWHCW', 'KWHCDR', 'KWHDWH', 'KWHLGT', 'KWHTVREL', 'KWHTV1', 'KWHTV2', 'KWHAHUHEAT', 'KWHAHUCOL', 'KWHEVAPCOL', 'KWHCFAN', 'KWHDHUM', 'KWHHUM', 'KWHPLPMP', 'KWHHTBPMP', 'KWHHTBHEAT', 'KWHNEC', 'DOLLAREL', 'DOLELSPH', 'DOLELCOL', 'DOLELWTH', 'DOLELRFG', 'DOLELRFG1', 'DOLELRFG2', 'DOLELFRZ', 'DOLELCOK', 'DOLELMICRO', 'DOLELCW', 'DOLELCDR', 'DOLELDWH', 'DOLELLGT', 'DOLELTVREL', 'DOLELTV1', 'DOLELTV2', 'DOLELAHUHEAT', 'DOLELAHUCOL', 'DOLELEVAPCOL', 'DOLELCFAN', 'DOLELDHUM', 'DOLELHUM', 'DOLELPLPMP', 'DOLELHTBPMP', 'DOLELHTBHEAT', 'DOLELNEC', 'INTERNET', 'SMARTMETER', 'INTDATA', 'INTDATAACC', 'INWIRELESS', 'KWH'])"
   ]
  },
  {
   "cell_type": "code",
   "execution_count": 7,
   "id": "7a6f1d64",
   "metadata": {},
   "outputs": [],
   "source": [
    "#Excluding object columns\n",
    "df2 = df1.select_dtypes(exclude=['object'])\n",
    "df2 = df2.dropna(axis=0)"
   ]
  },
  {
   "cell_type": "code",
   "execution_count": 8,
   "id": "14b4e95b",
   "metadata": {
    "scrolled": false
   },
   "outputs": [
    {
     "name": "stderr",
     "output_type": "stream",
     "text": [
      "C:\\Users\\yasha\\anaconda3\\lib\\site-packages\\statsmodels\\stats\\outliers_influence.py:193: RuntimeWarning: divide by zero encountered in double_scalars\n",
      "  vif = 1. / (1. - r_squared_i)\n",
      "C:\\Users\\yasha\\anaconda3\\lib\\site-packages\\statsmodels\\regression\\linear_model.py:1715: RuntimeWarning: divide by zero encountered in double_scalars\n",
      "  return 1 - self.ssr/self.centered_tss\n"
     ]
    },
    {
     "data": {
      "text/html": [
       "<div>\n",
       "<style scoped>\n",
       "    .dataframe tbody tr th:only-of-type {\n",
       "        vertical-align: middle;\n",
       "    }\n",
       "\n",
       "    .dataframe tbody tr th {\n",
       "        vertical-align: top;\n",
       "    }\n",
       "\n",
       "    .dataframe thead th {\n",
       "        text-align: right;\n",
       "    }\n",
       "</style>\n",
       "<table border=\"1\" class=\"dataframe\">\n",
       "  <thead>\n",
       "    <tr style=\"text-align: right;\">\n",
       "      <th></th>\n",
       "      <th>variables</th>\n",
       "      <th>VIF</th>\n",
       "    </tr>\n",
       "  </thead>\n",
       "  <tbody>\n",
       "    <tr>\n",
       "      <th>0</th>\n",
       "      <td>REGIONC</td>\n",
       "      <td>1.268316e+01</td>\n",
       "    </tr>\n",
       "    <tr>\n",
       "      <th>1</th>\n",
       "      <td>DIVISION</td>\n",
       "      <td>1.273892e+01</td>\n",
       "    </tr>\n",
       "    <tr>\n",
       "      <th>2</th>\n",
       "      <td>TYPEHUQ</td>\n",
       "      <td>2.098140e+00</td>\n",
       "    </tr>\n",
       "    <tr>\n",
       "      <th>3</th>\n",
       "      <td>UGASHERE</td>\n",
       "      <td>1.747043e+00</td>\n",
       "    </tr>\n",
       "    <tr>\n",
       "      <th>4</th>\n",
       "      <td>STORIES</td>\n",
       "      <td>1.862829e+00</td>\n",
       "    </tr>\n",
       "    <tr>\n",
       "      <th>...</th>\n",
       "      <td>...</td>\n",
       "      <td>...</td>\n",
       "    </tr>\n",
       "    <tr>\n",
       "      <th>104</th>\n",
       "      <td>SMARTMETER</td>\n",
       "      <td>2.734947e+00</td>\n",
       "    </tr>\n",
       "    <tr>\n",
       "      <th>105</th>\n",
       "      <td>INTDATA</td>\n",
       "      <td>7.633741e+00</td>\n",
       "    </tr>\n",
       "    <tr>\n",
       "      <th>106</th>\n",
       "      <td>INTDATAACC</td>\n",
       "      <td>6.599345e+00</td>\n",
       "    </tr>\n",
       "    <tr>\n",
       "      <th>107</th>\n",
       "      <td>INWIRELESS</td>\n",
       "      <td>1.245281e+01</td>\n",
       "    </tr>\n",
       "    <tr>\n",
       "      <th>108</th>\n",
       "      <td>KWH</td>\n",
       "      <td>3.933275e+13</td>\n",
       "    </tr>\n",
       "  </tbody>\n",
       "</table>\n",
       "<p>109 rows × 2 columns</p>\n",
       "</div>"
      ],
      "text/plain": [
       "      variables           VIF\n",
       "0       REGIONC  1.268316e+01\n",
       "1      DIVISION  1.273892e+01\n",
       "2       TYPEHUQ  2.098140e+00\n",
       "3      UGASHERE  1.747043e+00\n",
       "4       STORIES  1.862829e+00\n",
       "..          ...           ...\n",
       "104  SMARTMETER  2.734947e+00\n",
       "105     INTDATA  7.633741e+00\n",
       "106  INTDATAACC  6.599345e+00\n",
       "107  INWIRELESS  1.245281e+01\n",
       "108         KWH  3.933275e+13\n",
       "\n",
       "[109 rows x 2 columns]"
      ]
     },
     "execution_count": 8,
     "metadata": {},
     "output_type": "execute_result"
    }
   ],
   "source": [
    "#First Round of VIF \n",
    "pd.DataFrame({'variables':df2.columns[1:], 'VIF':[variance_inflation_factor(df2.values, i+1) for i in range(len(df2.columns[1:]))]})\n"
   ]
  },
  {
   "cell_type": "code",
   "execution_count": 9,
   "id": "3a9875f5",
   "metadata": {
    "scrolled": false
   },
   "outputs": [
    {
     "data": {
      "text/html": [
       "<div>\n",
       "<style scoped>\n",
       "    .dataframe tbody tr th:only-of-type {\n",
       "        vertical-align: middle;\n",
       "    }\n",
       "\n",
       "    .dataframe tbody tr th {\n",
       "        vertical-align: top;\n",
       "    }\n",
       "\n",
       "    .dataframe thead th {\n",
       "        text-align: right;\n",
       "    }\n",
       "</style>\n",
       "<table border=\"1\" class=\"dataframe\">\n",
       "  <thead>\n",
       "    <tr style=\"text-align: right;\">\n",
       "      <th></th>\n",
       "      <th>DOEID</th>\n",
       "      <th>REGIONC</th>\n",
       "      <th>DIVISION</th>\n",
       "      <th>TYPEHUQ</th>\n",
       "      <th>UGASHERE</th>\n",
       "      <th>STORIES</th>\n",
       "      <th>TOTROOMS</th>\n",
       "      <th>POOL</th>\n",
       "      <th>FUELPOOL</th>\n",
       "      <th>RECBATH</th>\n",
       "      <th>...</th>\n",
       "      <th>DOLELPLPMP</th>\n",
       "      <th>DOLELHTBPMP</th>\n",
       "      <th>DOLELHTBHEAT</th>\n",
       "      <th>DOLELNEC</th>\n",
       "      <th>INTERNET</th>\n",
       "      <th>SMARTMETER</th>\n",
       "      <th>INTDATA</th>\n",
       "      <th>INTDATAACC</th>\n",
       "      <th>INWIRELESS</th>\n",
       "      <th>KWH</th>\n",
       "    </tr>\n",
       "  </thead>\n",
       "  <tbody>\n",
       "    <tr>\n",
       "      <th>DOEID</th>\n",
       "      <td>1.000000</td>\n",
       "      <td>-0.004010</td>\n",
       "      <td>-0.002920</td>\n",
       "      <td>0.014811</td>\n",
       "      <td>0.030000</td>\n",
       "      <td>0.009707</td>\n",
       "      <td>0.028997</td>\n",
       "      <td>0.019761</td>\n",
       "      <td>-0.004123</td>\n",
       "      <td>0.016074</td>\n",
       "      <td>...</td>\n",
       "      <td>0.028610</td>\n",
       "      <td>0.015528</td>\n",
       "      <td>0.011834</td>\n",
       "      <td>0.010581</td>\n",
       "      <td>0.021775</td>\n",
       "      <td>-0.028674</td>\n",
       "      <td>-0.016615</td>\n",
       "      <td>-0.023657</td>\n",
       "      <td>0.023042</td>\n",
       "      <td>-0.023818</td>\n",
       "    </tr>\n",
       "    <tr>\n",
       "      <th>REGIONC</th>\n",
       "      <td>-0.004010</td>\n",
       "      <td>1.000000</td>\n",
       "      <td>0.950294</td>\n",
       "      <td>-0.047589</td>\n",
       "      <td>0.009752</td>\n",
       "      <td>-0.083759</td>\n",
       "      <td>-0.037154</td>\n",
       "      <td>-0.002219</td>\n",
       "      <td>0.027276</td>\n",
       "      <td>0.055221</td>\n",
       "      <td>...</td>\n",
       "      <td>0.022171</td>\n",
       "      <td>0.039233</td>\n",
       "      <td>0.016032</td>\n",
       "      <td>-0.006853</td>\n",
       "      <td>-0.016463</td>\n",
       "      <td>-0.024115</td>\n",
       "      <td>-0.030080</td>\n",
       "      <td>-0.028036</td>\n",
       "      <td>-0.027891</td>\n",
       "      <td>0.045439</td>\n",
       "    </tr>\n",
       "    <tr>\n",
       "      <th>DIVISION</th>\n",
       "      <td>-0.002920</td>\n",
       "      <td>0.950294</td>\n",
       "      <td>1.000000</td>\n",
       "      <td>-0.020586</td>\n",
       "      <td>0.058142</td>\n",
       "      <td>-0.091452</td>\n",
       "      <td>-0.065924</td>\n",
       "      <td>-0.003712</td>\n",
       "      <td>0.016149</td>\n",
       "      <td>0.065091</td>\n",
       "      <td>...</td>\n",
       "      <td>0.021341</td>\n",
       "      <td>0.050359</td>\n",
       "      <td>0.021661</td>\n",
       "      <td>0.004668</td>\n",
       "      <td>-0.009770</td>\n",
       "      <td>-0.015121</td>\n",
       "      <td>-0.022279</td>\n",
       "      <td>-0.022841</td>\n",
       "      <td>-0.019867</td>\n",
       "      <td>-0.007357</td>\n",
       "    </tr>\n",
       "    <tr>\n",
       "      <th>TYPEHUQ</th>\n",
       "      <td>0.014811</td>\n",
       "      <td>-0.047589</td>\n",
       "      <td>-0.020586</td>\n",
       "      <td>1.000000</td>\n",
       "      <td>0.069603</td>\n",
       "      <td>-0.537226</td>\n",
       "      <td>-0.522306</td>\n",
       "      <td>-0.139105</td>\n",
       "      <td>-0.070360</td>\n",
       "      <td>-0.109792</td>\n",
       "      <td>...</td>\n",
       "      <td>-0.119220</td>\n",
       "      <td>-0.070991</td>\n",
       "      <td>-0.061421</td>\n",
       "      <td>-0.091072</td>\n",
       "      <td>-0.072199</td>\n",
       "      <td>-0.110065</td>\n",
       "      <td>-0.074362</td>\n",
       "      <td>-0.076673</td>\n",
       "      <td>-0.083476</td>\n",
       "      <td>-0.368728</td>\n",
       "    </tr>\n",
       "    <tr>\n",
       "      <th>UGASHERE</th>\n",
       "      <td>0.030000</td>\n",
       "      <td>0.009752</td>\n",
       "      <td>0.058142</td>\n",
       "      <td>0.069603</td>\n",
       "      <td>1.000000</td>\n",
       "      <td>0.049905</td>\n",
       "      <td>0.017009</td>\n",
       "      <td>-0.016866</td>\n",
       "      <td>0.009512</td>\n",
       "      <td>0.005206</td>\n",
       "      <td>...</td>\n",
       "      <td>-0.018773</td>\n",
       "      <td>0.000791</td>\n",
       "      <td>-0.028866</td>\n",
       "      <td>0.058044</td>\n",
       "      <td>0.044192</td>\n",
       "      <td>-0.038676</td>\n",
       "      <td>-0.041529</td>\n",
       "      <td>-0.042890</td>\n",
       "      <td>0.053315</td>\n",
       "      <td>-0.301142</td>\n",
       "    </tr>\n",
       "    <tr>\n",
       "      <th>...</th>\n",
       "      <td>...</td>\n",
       "      <td>...</td>\n",
       "      <td>...</td>\n",
       "      <td>...</td>\n",
       "      <td>...</td>\n",
       "      <td>...</td>\n",
       "      <td>...</td>\n",
       "      <td>...</td>\n",
       "      <td>...</td>\n",
       "      <td>...</td>\n",
       "      <td>...</td>\n",
       "      <td>...</td>\n",
       "      <td>...</td>\n",
       "      <td>...</td>\n",
       "      <td>...</td>\n",
       "      <td>...</td>\n",
       "      <td>...</td>\n",
       "      <td>...</td>\n",
       "      <td>...</td>\n",
       "      <td>...</td>\n",
       "      <td>...</td>\n",
       "    </tr>\n",
       "    <tr>\n",
       "      <th>SMARTMETER</th>\n",
       "      <td>-0.028674</td>\n",
       "      <td>-0.024115</td>\n",
       "      <td>-0.015121</td>\n",
       "      <td>-0.110065</td>\n",
       "      <td>-0.038676</td>\n",
       "      <td>0.055783</td>\n",
       "      <td>0.054468</td>\n",
       "      <td>0.018393</td>\n",
       "      <td>0.014290</td>\n",
       "      <td>0.016464</td>\n",
       "      <td>...</td>\n",
       "      <td>0.009130</td>\n",
       "      <td>0.019475</td>\n",
       "      <td>0.023273</td>\n",
       "      <td>0.013809</td>\n",
       "      <td>-0.009410</td>\n",
       "      <td>1.000000</td>\n",
       "      <td>0.786780</td>\n",
       "      <td>0.746294</td>\n",
       "      <td>-0.012288</td>\n",
       "      <td>0.047554</td>\n",
       "    </tr>\n",
       "    <tr>\n",
       "      <th>INTDATA</th>\n",
       "      <td>-0.016615</td>\n",
       "      <td>-0.030080</td>\n",
       "      <td>-0.022279</td>\n",
       "      <td>-0.074362</td>\n",
       "      <td>-0.041529</td>\n",
       "      <td>0.028902</td>\n",
       "      <td>0.026217</td>\n",
       "      <td>0.000562</td>\n",
       "      <td>0.005585</td>\n",
       "      <td>0.006325</td>\n",
       "      <td>...</td>\n",
       "      <td>-0.007987</td>\n",
       "      <td>0.016277</td>\n",
       "      <td>0.024998</td>\n",
       "      <td>0.008506</td>\n",
       "      <td>-0.016236</td>\n",
       "      <td>0.786780</td>\n",
       "      <td>1.000000</td>\n",
       "      <td>0.916772</td>\n",
       "      <td>-0.021432</td>\n",
       "      <td>0.035818</td>\n",
       "    </tr>\n",
       "    <tr>\n",
       "      <th>INTDATAACC</th>\n",
       "      <td>-0.023657</td>\n",
       "      <td>-0.028036</td>\n",
       "      <td>-0.022841</td>\n",
       "      <td>-0.076673</td>\n",
       "      <td>-0.042890</td>\n",
       "      <td>0.005668</td>\n",
       "      <td>0.016727</td>\n",
       "      <td>-0.007108</td>\n",
       "      <td>0.000252</td>\n",
       "      <td>-0.002234</td>\n",
       "      <td>...</td>\n",
       "      <td>-0.015053</td>\n",
       "      <td>0.007209</td>\n",
       "      <td>0.016552</td>\n",
       "      <td>-0.001244</td>\n",
       "      <td>-0.049649</td>\n",
       "      <td>0.746294</td>\n",
       "      <td>0.916772</td>\n",
       "      <td>1.000000</td>\n",
       "      <td>-0.056289</td>\n",
       "      <td>0.024695</td>\n",
       "    </tr>\n",
       "    <tr>\n",
       "      <th>INWIRELESS</th>\n",
       "      <td>0.023042</td>\n",
       "      <td>-0.027891</td>\n",
       "      <td>-0.019867</td>\n",
       "      <td>-0.083476</td>\n",
       "      <td>0.053315</td>\n",
       "      <td>0.184178</td>\n",
       "      <td>0.236426</td>\n",
       "      <td>0.096993</td>\n",
       "      <td>0.048775</td>\n",
       "      <td>0.093537</td>\n",
       "      <td>...</td>\n",
       "      <td>0.093580</td>\n",
       "      <td>0.070835</td>\n",
       "      <td>0.060926</td>\n",
       "      <td>0.097463</td>\n",
       "      <td>0.955841</td>\n",
       "      <td>-0.012288</td>\n",
       "      <td>-0.021432</td>\n",
       "      <td>-0.056289</td>\n",
       "      <td>1.000000</td>\n",
       "      <td>0.143528</td>\n",
       "    </tr>\n",
       "    <tr>\n",
       "      <th>KWH</th>\n",
       "      <td>-0.023818</td>\n",
       "      <td>0.045439</td>\n",
       "      <td>-0.007357</td>\n",
       "      <td>-0.368728</td>\n",
       "      <td>-0.301142</td>\n",
       "      <td>0.240210</td>\n",
       "      <td>0.411689</td>\n",
       "      <td>0.282303</td>\n",
       "      <td>0.149274</td>\n",
       "      <td>0.187231</td>\n",
       "      <td>...</td>\n",
       "      <td>0.272109</td>\n",
       "      <td>0.141564</td>\n",
       "      <td>0.132737</td>\n",
       "      <td>0.382065</td>\n",
       "      <td>0.131348</td>\n",
       "      <td>0.047554</td>\n",
       "      <td>0.035818</td>\n",
       "      <td>0.024695</td>\n",
       "      <td>0.143528</td>\n",
       "      <td>1.000000</td>\n",
       "    </tr>\n",
       "  </tbody>\n",
       "</table>\n",
       "<p>110 rows × 110 columns</p>\n",
       "</div>"
      ],
      "text/plain": [
       "               DOEID   REGIONC  DIVISION   TYPEHUQ  UGASHERE   STORIES  \\\n",
       "DOEID       1.000000 -0.004010 -0.002920  0.014811  0.030000  0.009707   \n",
       "REGIONC    -0.004010  1.000000  0.950294 -0.047589  0.009752 -0.083759   \n",
       "DIVISION   -0.002920  0.950294  1.000000 -0.020586  0.058142 -0.091452   \n",
       "TYPEHUQ     0.014811 -0.047589 -0.020586  1.000000  0.069603 -0.537226   \n",
       "UGASHERE    0.030000  0.009752  0.058142  0.069603  1.000000  0.049905   \n",
       "...              ...       ...       ...       ...       ...       ...   \n",
       "SMARTMETER -0.028674 -0.024115 -0.015121 -0.110065 -0.038676  0.055783   \n",
       "INTDATA    -0.016615 -0.030080 -0.022279 -0.074362 -0.041529  0.028902   \n",
       "INTDATAACC -0.023657 -0.028036 -0.022841 -0.076673 -0.042890  0.005668   \n",
       "INWIRELESS  0.023042 -0.027891 -0.019867 -0.083476  0.053315  0.184178   \n",
       "KWH        -0.023818  0.045439 -0.007357 -0.368728 -0.301142  0.240210   \n",
       "\n",
       "            TOTROOMS      POOL  FUELPOOL   RECBATH  ...  DOLELPLPMP  \\\n",
       "DOEID       0.028997  0.019761 -0.004123  0.016074  ...    0.028610   \n",
       "REGIONC    -0.037154 -0.002219  0.027276  0.055221  ...    0.022171   \n",
       "DIVISION   -0.065924 -0.003712  0.016149  0.065091  ...    0.021341   \n",
       "TYPEHUQ    -0.522306 -0.139105 -0.070360 -0.109792  ...   -0.119220   \n",
       "UGASHERE    0.017009 -0.016866  0.009512  0.005206  ...   -0.018773   \n",
       "...              ...       ...       ...       ...  ...         ...   \n",
       "SMARTMETER  0.054468  0.018393  0.014290  0.016464  ...    0.009130   \n",
       "INTDATA     0.026217  0.000562  0.005585  0.006325  ...   -0.007987   \n",
       "INTDATAACC  0.016727 -0.007108  0.000252 -0.002234  ...   -0.015053   \n",
       "INWIRELESS  0.236426  0.096993  0.048775  0.093537  ...    0.093580   \n",
       "KWH         0.411689  0.282303  0.149274  0.187231  ...    0.272109   \n",
       "\n",
       "            DOLELHTBPMP  DOLELHTBHEAT  DOLELNEC  INTERNET  SMARTMETER  \\\n",
       "DOEID          0.015528      0.011834  0.010581  0.021775   -0.028674   \n",
       "REGIONC        0.039233      0.016032 -0.006853 -0.016463   -0.024115   \n",
       "DIVISION       0.050359      0.021661  0.004668 -0.009770   -0.015121   \n",
       "TYPEHUQ       -0.070991     -0.061421 -0.091072 -0.072199   -0.110065   \n",
       "UGASHERE       0.000791     -0.028866  0.058044  0.044192   -0.038676   \n",
       "...                 ...           ...       ...       ...         ...   \n",
       "SMARTMETER     0.019475      0.023273  0.013809 -0.009410    1.000000   \n",
       "INTDATA        0.016277      0.024998  0.008506 -0.016236    0.786780   \n",
       "INTDATAACC     0.007209      0.016552 -0.001244 -0.049649    0.746294   \n",
       "INWIRELESS     0.070835      0.060926  0.097463  0.955841   -0.012288   \n",
       "KWH            0.141564      0.132737  0.382065  0.131348    0.047554   \n",
       "\n",
       "             INTDATA  INTDATAACC  INWIRELESS       KWH  \n",
       "DOEID      -0.016615   -0.023657    0.023042 -0.023818  \n",
       "REGIONC    -0.030080   -0.028036   -0.027891  0.045439  \n",
       "DIVISION   -0.022279   -0.022841   -0.019867 -0.007357  \n",
       "TYPEHUQ    -0.074362   -0.076673   -0.083476 -0.368728  \n",
       "UGASHERE   -0.041529   -0.042890    0.053315 -0.301142  \n",
       "...              ...         ...         ...       ...  \n",
       "SMARTMETER  0.786780    0.746294   -0.012288  0.047554  \n",
       "INTDATA     1.000000    0.916772   -0.021432  0.035818  \n",
       "INTDATAACC  0.916772    1.000000   -0.056289  0.024695  \n",
       "INWIRELESS -0.021432   -0.056289    1.000000  0.143528  \n",
       "KWH         0.035818    0.024695    0.143528  1.000000  \n",
       "\n",
       "[110 rows x 110 columns]"
      ]
     },
     "execution_count": 9,
     "metadata": {},
     "output_type": "execute_result"
    }
   ],
   "source": [
    "df2.corr()"
   ]
  },
  {
   "cell_type": "code",
   "execution_count": 10,
   "id": "fe51ec91",
   "metadata": {},
   "outputs": [],
   "source": [
    "#Dropping some columns with no correlation based on correlation matrix\n",
    "df2=df2.drop (columns = [\"DIVISION\",\"INWIRELESS\",\"DOLELPLPMP\",\"TYPEHUQ\"], axis = 1)\n",
    "#removing dol columns from data\n",
    "df2 = df2[df2.columns[~df2.columns.str.startswith(\"DOLE\")]]\n",
    "#removing dol columns from data\n",
    "df2 = df2[df2.columns[~df2.columns.str.startswith(\"DOL\")]]\n",
    "#removing kwh columns from data\n",
    "df2 = df2[df2.columns[~df2.columns.str.startswith(\"KWH\")]]\n",
    "#removing doe columns from data\n",
    "df2 = df2[df2.columns[~df2.columns.str.startswith(\"DOE\")]]"
   ]
  },
  {
   "cell_type": "code",
   "execution_count": 11,
   "id": "424595a4",
   "metadata": {},
   "outputs": [
    {
     "name": "stderr",
     "output_type": "stream",
     "text": [
      "C:\\Users\\yasha\\anaconda3\\lib\\site-packages\\statsmodels\\stats\\outliers_influence.py:193: RuntimeWarning: divide by zero encountered in double_scalars\n",
      "  vif = 1. / (1. - r_squared_i)\n",
      "C:\\Users\\yasha\\anaconda3\\lib\\site-packages\\statsmodels\\regression\\linear_model.py:1715: RuntimeWarning: divide by zero encountered in double_scalars\n",
      "  return 1 - self.ssr/self.centered_tss\n"
     ]
    },
    {
     "data": {
      "text/html": [
       "<div>\n",
       "<style scoped>\n",
       "    .dataframe tbody tr th:only-of-type {\n",
       "        vertical-align: middle;\n",
       "    }\n",
       "\n",
       "    .dataframe tbody tr th {\n",
       "        vertical-align: top;\n",
       "    }\n",
       "\n",
       "    .dataframe thead th {\n",
       "        text-align: right;\n",
       "    }\n",
       "</style>\n",
       "<table border=\"1\" class=\"dataframe\">\n",
       "  <thead>\n",
       "    <tr style=\"text-align: right;\">\n",
       "      <th></th>\n",
       "      <th>variables</th>\n",
       "      <th>VIF</th>\n",
       "    </tr>\n",
       "  </thead>\n",
       "  <tbody>\n",
       "    <tr>\n",
       "      <th>0</th>\n",
       "      <td>UGASHERE</td>\n",
       "      <td>1.670923</td>\n",
       "    </tr>\n",
       "    <tr>\n",
       "      <th>1</th>\n",
       "      <td>STORIES</td>\n",
       "      <td>1.508313</td>\n",
       "    </tr>\n",
       "    <tr>\n",
       "      <th>2</th>\n",
       "      <td>TOTROOMS</td>\n",
       "      <td>1.959167</td>\n",
       "    </tr>\n",
       "    <tr>\n",
       "      <th>3</th>\n",
       "      <td>POOL</td>\n",
       "      <td>1.876370</td>\n",
       "    </tr>\n",
       "    <tr>\n",
       "      <th>4</th>\n",
       "      <td>FUELPOOL</td>\n",
       "      <td>1.743180</td>\n",
       "    </tr>\n",
       "    <tr>\n",
       "      <th>5</th>\n",
       "      <td>RECBATH</td>\n",
       "      <td>2.801218</td>\n",
       "    </tr>\n",
       "    <tr>\n",
       "      <th>6</th>\n",
       "      <td>FUELTUB</td>\n",
       "      <td>2.716320</td>\n",
       "    </tr>\n",
       "    <tr>\n",
       "      <th>7</th>\n",
       "      <td>NUMFRIG</td>\n",
       "      <td>1.425944</td>\n",
       "    </tr>\n",
       "    <tr>\n",
       "      <th>8</th>\n",
       "      <td>SIZRFRI1</td>\n",
       "      <td>1.206572</td>\n",
       "    </tr>\n",
       "    <tr>\n",
       "      <th>9</th>\n",
       "      <td>NUMFREEZ</td>\n",
       "      <td>1.138292</td>\n",
       "    </tr>\n",
       "    <tr>\n",
       "      <th>10</th>\n",
       "      <td>STOVEN</td>\n",
       "      <td>3.486482</td>\n",
       "    </tr>\n",
       "    <tr>\n",
       "      <th>11</th>\n",
       "      <td>STOVENFUEL</td>\n",
       "      <td>8.307567</td>\n",
       "    </tr>\n",
       "    <tr>\n",
       "      <th>12</th>\n",
       "      <td>DUALCOOKTFUEL</td>\n",
       "      <td>6.104801</td>\n",
       "    </tr>\n",
       "    <tr>\n",
       "      <th>13</th>\n",
       "      <td>DUALOVENFUEL</td>\n",
       "      <td>6.363732</td>\n",
       "    </tr>\n",
       "    <tr>\n",
       "      <th>14</th>\n",
       "      <td>COOKTUSE</td>\n",
       "      <td>1.664533</td>\n",
       "    </tr>\n",
       "    <tr>\n",
       "      <th>15</th>\n",
       "      <td>OVENUSE</td>\n",
       "      <td>1.553725</td>\n",
       "    </tr>\n",
       "    <tr>\n",
       "      <th>16</th>\n",
       "      <td>STOVE</td>\n",
       "      <td>8.970165</td>\n",
       "    </tr>\n",
       "    <tr>\n",
       "      <th>17</th>\n",
       "      <td>STOVEFUEL</td>\n",
       "      <td>7.116845</td>\n",
       "    </tr>\n",
       "    <tr>\n",
       "      <th>18</th>\n",
       "      <td>SEPCOOKTUSE</td>\n",
       "      <td>3.596374</td>\n",
       "    </tr>\n",
       "    <tr>\n",
       "      <th>19</th>\n",
       "      <td>OVEN</td>\n",
       "      <td>7.329718</td>\n",
       "    </tr>\n",
       "    <tr>\n",
       "      <th>20</th>\n",
       "      <td>OVENFUEL</td>\n",
       "      <td>7.927619</td>\n",
       "    </tr>\n",
       "    <tr>\n",
       "      <th>21</th>\n",
       "      <td>SEPOVENUSE</td>\n",
       "      <td>3.026501</td>\n",
       "    </tr>\n",
       "    <tr>\n",
       "      <th>22</th>\n",
       "      <td>MICRO</td>\n",
       "      <td>1.176791</td>\n",
       "    </tr>\n",
       "    <tr>\n",
       "      <th>23</th>\n",
       "      <td>AMTMICRO</td>\n",
       "      <td>1.199434</td>\n",
       "    </tr>\n",
       "    <tr>\n",
       "      <th>24</th>\n",
       "      <td>NUMMEAL</td>\n",
       "      <td>1.179485</td>\n",
       "    </tr>\n",
       "    <tr>\n",
       "      <th>25</th>\n",
       "      <td>DISHWASH</td>\n",
       "      <td>2.430738</td>\n",
       "    </tr>\n",
       "    <tr>\n",
       "      <th>26</th>\n",
       "      <td>DWASHUSE</td>\n",
       "      <td>2.681529</td>\n",
       "    </tr>\n",
       "    <tr>\n",
       "      <th>27</th>\n",
       "      <td>DWCYCLE</td>\n",
       "      <td>2.445418</td>\n",
       "    </tr>\n",
       "    <tr>\n",
       "      <th>28</th>\n",
       "      <td>TVCOLOR</td>\n",
       "      <td>1.319305</td>\n",
       "    </tr>\n",
       "    <tr>\n",
       "      <th>29</th>\n",
       "      <td>EQUIPM</td>\n",
       "      <td>1.549433</td>\n",
       "    </tr>\n",
       "    <tr>\n",
       "      <th>30</th>\n",
       "      <td>FUELHEAT</td>\n",
       "      <td>2.872255</td>\n",
       "    </tr>\n",
       "    <tr>\n",
       "      <th>31</th>\n",
       "      <td>AIRCOND</td>\n",
       "      <td>inf</td>\n",
       "    </tr>\n",
       "    <tr>\n",
       "      <th>32</th>\n",
       "      <td>FUELH2O</td>\n",
       "      <td>12.587500</td>\n",
       "    </tr>\n",
       "    <tr>\n",
       "      <th>33</th>\n",
       "      <td>FUELH2O2</td>\n",
       "      <td>1.110672</td>\n",
       "    </tr>\n",
       "    <tr>\n",
       "      <th>34</th>\n",
       "      <td>SMARTTHERM</td>\n",
       "      <td>1.088144</td>\n",
       "    </tr>\n",
       "    <tr>\n",
       "      <th>35</th>\n",
       "      <td>NOHEATBROKE</td>\n",
       "      <td>1.094542</td>\n",
       "    </tr>\n",
       "    <tr>\n",
       "      <th>36</th>\n",
       "      <td>NOHEATEL</td>\n",
       "      <td>1.442859</td>\n",
       "    </tr>\n",
       "    <tr>\n",
       "      <th>37</th>\n",
       "      <td>NOHEATNG</td>\n",
       "      <td>1.151010</td>\n",
       "    </tr>\n",
       "    <tr>\n",
       "      <th>38</th>\n",
       "      <td>NOHEATBULK</td>\n",
       "      <td>1.025349</td>\n",
       "    </tr>\n",
       "    <tr>\n",
       "      <th>39</th>\n",
       "      <td>NOACBROKE</td>\n",
       "      <td>1.107783</td>\n",
       "    </tr>\n",
       "    <tr>\n",
       "      <th>40</th>\n",
       "      <td>NOACEL</td>\n",
       "      <td>1.488629</td>\n",
       "    </tr>\n",
       "    <tr>\n",
       "      <th>41</th>\n",
       "      <td>USEEL</td>\n",
       "      <td>0.000000</td>\n",
       "    </tr>\n",
       "    <tr>\n",
       "      <th>42</th>\n",
       "      <td>ELWARM</td>\n",
       "      <td>1.803248</td>\n",
       "    </tr>\n",
       "    <tr>\n",
       "      <th>43</th>\n",
       "      <td>ELCOOL</td>\n",
       "      <td>inf</td>\n",
       "    </tr>\n",
       "    <tr>\n",
       "      <th>44</th>\n",
       "      <td>ELWATER</td>\n",
       "      <td>11.696229</td>\n",
       "    </tr>\n",
       "    <tr>\n",
       "      <th>45</th>\n",
       "      <td>ELFOOD</td>\n",
       "      <td>4.671534</td>\n",
       "    </tr>\n",
       "    <tr>\n",
       "      <th>46</th>\n",
       "      <td>ELOTHER</td>\n",
       "      <td>0.000000</td>\n",
       "    </tr>\n",
       "    <tr>\n",
       "      <th>47</th>\n",
       "      <td>INTERNET</td>\n",
       "      <td>1.156333</td>\n",
       "    </tr>\n",
       "    <tr>\n",
       "      <th>48</th>\n",
       "      <td>SMARTMETER</td>\n",
       "      <td>2.706617</td>\n",
       "    </tr>\n",
       "    <tr>\n",
       "      <th>49</th>\n",
       "      <td>INTDATA</td>\n",
       "      <td>7.531135</td>\n",
       "    </tr>\n",
       "    <tr>\n",
       "      <th>50</th>\n",
       "      <td>INTDATAACC</td>\n",
       "      <td>6.520631</td>\n",
       "    </tr>\n",
       "  </tbody>\n",
       "</table>\n",
       "</div>"
      ],
      "text/plain": [
       "        variables        VIF\n",
       "0        UGASHERE   1.670923\n",
       "1         STORIES   1.508313\n",
       "2        TOTROOMS   1.959167\n",
       "3            POOL   1.876370\n",
       "4        FUELPOOL   1.743180\n",
       "5         RECBATH   2.801218\n",
       "6         FUELTUB   2.716320\n",
       "7         NUMFRIG   1.425944\n",
       "8        SIZRFRI1   1.206572\n",
       "9        NUMFREEZ   1.138292\n",
       "10         STOVEN   3.486482\n",
       "11     STOVENFUEL   8.307567\n",
       "12  DUALCOOKTFUEL   6.104801\n",
       "13   DUALOVENFUEL   6.363732\n",
       "14       COOKTUSE   1.664533\n",
       "15        OVENUSE   1.553725\n",
       "16          STOVE   8.970165\n",
       "17      STOVEFUEL   7.116845\n",
       "18    SEPCOOKTUSE   3.596374\n",
       "19           OVEN   7.329718\n",
       "20       OVENFUEL   7.927619\n",
       "21     SEPOVENUSE   3.026501\n",
       "22          MICRO   1.176791\n",
       "23       AMTMICRO   1.199434\n",
       "24        NUMMEAL   1.179485\n",
       "25       DISHWASH   2.430738\n",
       "26       DWASHUSE   2.681529\n",
       "27        DWCYCLE   2.445418\n",
       "28        TVCOLOR   1.319305\n",
       "29         EQUIPM   1.549433\n",
       "30       FUELHEAT   2.872255\n",
       "31        AIRCOND        inf\n",
       "32        FUELH2O  12.587500\n",
       "33       FUELH2O2   1.110672\n",
       "34     SMARTTHERM   1.088144\n",
       "35    NOHEATBROKE   1.094542\n",
       "36       NOHEATEL   1.442859\n",
       "37       NOHEATNG   1.151010\n",
       "38     NOHEATBULK   1.025349\n",
       "39      NOACBROKE   1.107783\n",
       "40         NOACEL   1.488629\n",
       "41          USEEL   0.000000\n",
       "42         ELWARM   1.803248\n",
       "43         ELCOOL        inf\n",
       "44        ELWATER  11.696229\n",
       "45         ELFOOD   4.671534\n",
       "46        ELOTHER   0.000000\n",
       "47       INTERNET   1.156333\n",
       "48     SMARTMETER   2.706617\n",
       "49        INTDATA   7.531135\n",
       "50     INTDATAACC   6.520631"
      ]
     },
     "execution_count": 11,
     "metadata": {},
     "output_type": "execute_result"
    }
   ],
   "source": [
    "#Second round of VIF\n",
    "pd.DataFrame({'variables':df2.columns[1:], 'VIF':[variance_inflation_factor(df2.values, i+1) for i in range(len(df2.columns[1:]))]})\n"
   ]
  },
  {
   "cell_type": "markdown",
   "id": "a89c6dc5",
   "metadata": {},
   "source": [
    "### Creating Dummy Variables"
   ]
  },
  {
   "cell_type": "code",
   "execution_count": 12,
   "id": "67f08702",
   "metadata": {},
   "outputs": [],
   "source": [
    "#Getting dummy variables for NUMMEAL\n",
    "dummies_NumMeal = pd.get_dummies(df2['NUMMEAL'])\n",
    "\n",
    "#Renaming the dummy variable columns\n",
    "dummies_NumMeal.columns = ['Meals 3 or more a day', 'Meals 2 times a day','Meals once a day', 'Meals few times a week', 'Meals once a week', 'Meals less than a week', 'Never']\n",
    "\n",
    "#Reseting index and dropping original column\n",
    "dummies_NumMeal.reset_index(drop=True, inplace=True)\n",
    "df2.reset_index(drop=True, inplace=True)\n",
    "df2 =df2.drop(['NUMMEAL'], axis = 1)\n",
    "\n",
    "#Combining with main Dataframe \n",
    "df2['NUMMEAL_Meal3ormore']=dummies_NumMeal['Meals 3 or more a day']\n",
    "df2['NUMMEAL_Meal2']=dummies_NumMeal['Meals 2 times a day']\n",
    "df2['NUMMEAL_Mealonceday']=dummies_NumMeal['Meals once a day']\n",
    "df2['NUMMEAL_Mealfwtimeweek']=dummies_NumMeal['Meals few times a week']\n",
    "df2['NUMMEAL_Mealonceweek']=dummies_NumMeal['Meals once a week']\n",
    "df2['NUMMEAL_Mealslessweek']=dummies_NumMeal['Meals less than a week']\n",
    "df2['NUMMEAL_Never']=dummies_NumMeal['Never']"
   ]
  },
  {
   "cell_type": "code",
   "execution_count": 13,
   "id": "6035bcee",
   "metadata": {},
   "outputs": [],
   "source": [
    "#Getting dummy variables for DWCYCLE\n",
    "dummies_DWCycle = pd.get_dummies(df2['DWCYCLE'])\n",
    "\n",
    "#Renaming the dummy variable columns\n",
    "dummies_DWCycle.columns = ['Normal or default cycle without heated dry', 'Normal or default cycle with heated dry','Heavy or “pots and pans” cycle', 'Light or delicate cycle', 'Energy saver', 'NA_DWC']\n",
    "\n",
    "#Reseting index and dropping original column\n",
    "dummies_DWCycle.reset_index(drop=True, inplace=True)\n",
    "df2.reset_index(drop=True, inplace=True)\n",
    "df2 =df2.drop(['DWCYCLE'], axis = 1)\n",
    "\n",
    "#Combining with main Dataframe \n",
    "df2['DWCYCLE_NormCywoHDry']=dummies_DWCycle['Normal or default cycle without heated dry']\n",
    "df2['DWCYCLE_NormCywHDry']=dummies_DWCycle['Normal or default cycle with heated dry']\n",
    "df2['DWCYCLE_HCycle']=dummies_DWCycle['Heavy or “pots and pans” cycle']\n",
    "df2['DWCYCLE_LCycle']=dummies_DWCycle['Light or delicate cycle']\n",
    "df2['DWCYCLE_ESav']=dummies_DWCycle['Energy saver']\n",
    "df2['DWCYCLE_NA']=dummies_DWCycle['NA_DWC']"
   ]
  },
  {
   "cell_type": "code",
   "execution_count": 14,
   "id": "f99324f8",
   "metadata": {},
   "outputs": [],
   "source": [
    "#Getting dummy variables for EQUIPM\n",
    "dummies_EquipM = pd.get_dummies(df2['EQUIPM'])\n",
    "\n",
    "#Renaming the dummy variable columns \n",
    "dummies_EquipM.columns = ['Steam/hot water system with radiators or pipes', 'Central furnace','Heat pump', 'Built-in electric units installed in walls, ceilings, baseboards, or floors', 'Built-in floor/wall pipeless furnace', 'Built-in room heater burning gas, oil, or kerosene', 'Wood-burning stove (cordwood or pellets)', 'Fireplace', 'Portable electric heaters', 'Some other equipment', 'NA_EQM']\n",
    "\n",
    "#Reseting index and dropping original column\n",
    "dummies_EquipM.reset_index(drop=True, inplace=True)\n",
    "df2.reset_index(drop=True, inplace=True) \n",
    "df2 =df2.drop(['EQUIPM'], axis = 1)\n",
    "\n",
    "#Combining with the main Dataframe \n",
    "df2['EQUIPM_Steam']=dummies_EquipM['Steam/hot water system with radiators or pipes']\n",
    "df2['EQUIPM_Furnace']=dummies_EquipM['Central furnace']\n",
    "df2['EQUIPM_HPump']=dummies_EquipM['Heat pump']\n",
    "df2['EQUIPM_BIElectricUnits']=dummies_EquipM['Built-in electric units installed in walls, ceilings, baseboards, or floors']\n",
    "df2['EQUIPM_BIPFurnace']=dummies_EquipM['Built-in floor/wall pipeless furnace']\n",
    "df2['EQUIPM_BIRoomHeater']=dummies_EquipM['Built-in room heater burning gas, oil, or kerosene']\n",
    "df2['EQUIPM_WoodStove']=dummies_EquipM['Wood-burning stove (cordwood or pellets)']\n",
    "df2['EQUIPM_Fireplace']=dummies_EquipM['Fireplace']\n",
    "df2['EQUIPM_PortEHeat']=dummies_EquipM['Portable electric heaters']\n",
    "df2['EQUIPM_SOE']=dummies_EquipM['Some other equipment']\n",
    "df2['EQUIPM_NA']=dummies_EquipM['NA_EQM']"
   ]
  },
  {
   "cell_type": "code",
   "execution_count": 15,
   "id": "da97026b",
   "metadata": {},
   "outputs": [],
   "source": [
    "#Getting dummy variables for FUELHEAT\n",
    "dummies_FH = pd.get_dummies(df2['FUELHEAT'])\n",
    "\n",
    "#Renaming the dummy variable columns \n",
    "dummies_FH.columns = ['Natural gas from underground pipes', 'Propane (bottled gas)', 'Fuel oil/kerosene', 'Electricity', 'Wood (cordwood or pellets)', 'Some other fuel', 'NA_FH']\n",
    "\n",
    "#Reseting index and dropping original column\n",
    "dummies_FH.reset_index(drop=True, inplace=True)\n",
    "df2.reset_index(drop=True, inplace=True) \n",
    "df2 = df2.drop(['FUELHEAT'], axis = 1)\n",
    "\n",
    "#Combining with main Dataframe \n",
    "df2['FH_NG']=dummies_FH['Natural gas from underground pipes']\n",
    "df2['FH_Propane']=dummies_FH['Propane (bottled gas)']\n",
    "df2['FH_Fuel']=dummies_FH['Fuel oil/kerosene']\n",
    "df2['FH_Electricity']=dummies_FH['Electricity']\n",
    "df2['FH_Wood']=dummies_FH['Wood (cordwood or pellets)']\n",
    "df2['FH_SOF']=dummies_FH['Some other fuel']\n",
    "df2['FH_NA']=dummies_FH['NA_FH']"
   ]
  },
  {
   "cell_type": "code",
   "execution_count": 16,
   "id": "40f37c1a",
   "metadata": {},
   "outputs": [],
   "source": [
    "#Getting dummy variables for SMARTTHERM\n",
    "dummies_SmartTherm = pd.get_dummies(df2['SMARTTHERM'])\n",
    "\n",
    "#Renaming the dummy variable columns \n",
    "dummies_SmartTherm.columns = ['ST_Yes', 'ST_No', 'NA_ST', 'DK_ST']\n",
    "\n",
    "#Reseting index and dropping original column\n",
    "dummies_SmartTherm.reset_index(drop=True, inplace=True)\n",
    "df2.reset_index(drop=True, inplace=True) \n",
    "df2 =df2.drop(['SMARTTHERM'], axis = 1)\n",
    "\n",
    "#Combining with main Dataframe \n",
    "df2['ST_Yes']=dummies_SmartTherm['ST_Yes']\n",
    "df2['ST_No']=dummies_SmartTherm['ST_No']\n",
    "df2['ST_NA']=dummies_SmartTherm['NA_ST']\n",
    "df2['ST_DK']=dummies_SmartTherm['DK_ST']"
   ]
  },
  {
   "cell_type": "code",
   "execution_count": 17,
   "id": "1549c111",
   "metadata": {},
   "outputs": [],
   "source": [
    "#Getting dummy variables for SMMET\n",
    "dummies_SMMET = pd.get_dummies(df2['SMARTMETER'])\n",
    "\n",
    "#Renaming the dummy variable columns \n",
    "dummies_SMMET.columns = ['SM_Yes', 'SM_No', 'SM_Ref', 'SM_DK']\n",
    "\n",
    "#Reseting index and dropping original column\n",
    "dummies_SMMET.reset_index(drop=True, inplace=True)\n",
    "df2.reset_index(drop=True, inplace=True) \n",
    "df2 =df2.drop(['SMARTMETER'], axis = 1)\n",
    "\n",
    "#Combining with main Dataframe \n",
    "df2['SM_Yes']=dummies_SMMET['SM_Yes']\n",
    "df2['SM_No']=dummies_SMMET['SM_No']\n",
    "df2['SM_Ref']=dummies_SMMET['SM_Ref']\n",
    "df2['SM_DK']=dummies_SMMET['SM_DK']"
   ]
  },
  {
   "cell_type": "code",
   "execution_count": 18,
   "id": "04ae1a04",
   "metadata": {},
   "outputs": [],
   "source": [
    "#Getting dummy variables for INTDATA\n",
    "dummies_INTDATA = pd.get_dummies(df2['INTDATA'])\n",
    "\n",
    "#Renaming the dummy variable columns \n",
    "dummies_INTDATA.columns = ['ID_Yes', 'ID_No', 'ID_NA', 'ID_Ref', 'ID_DK']\n",
    "\n",
    "#Reseting index and dropping original column\n",
    "dummies_INTDATA.reset_index(drop=True, inplace=True)\n",
    "df2.reset_index(drop=True, inplace=True) \n",
    "df2 =df2.drop(['INTDATA'], axis = 1)\n",
    "\n",
    "#Combining with main Dataframe \n",
    "df2['ID_Yes']=dummies_INTDATA['ID_Yes']\n",
    "df2['ID_No']=dummies_INTDATA['ID_No']\n",
    "df2['ID_NA']=dummies_INTDATA['ID_NA']\n",
    "df2['ID_Ref']=dummies_INTDATA['ID_Ref']\n",
    "df2['ID_DK']=dummies_INTDATA['ID_DK']"
   ]
  },
  {
   "cell_type": "code",
   "execution_count": 19,
   "id": "c6849ff6",
   "metadata": {},
   "outputs": [],
   "source": [
    "#Getting dummy variables for INTDATAACC\n",
    "\n",
    "dummies_IDA = pd.get_dummies(df2['INTDATAACC'])\n",
    "\n",
    "#Renaming the dummy variable columns \n",
    "dummies_IDA.columns = ['IDA_Yes', 'IDA_No', 'IDA_NA', 'IDA_DK']\n",
    "\n",
    "#Reseting index and dropping original column\n",
    "dummies_IDA.reset_index(drop=True, inplace=True)\n",
    "df2.reset_index(drop=True, inplace=True) \n",
    "df2 =df2.drop(['INTDATAACC'], axis = 1)\n",
    "\n",
    "#Combining with main Dataframe \n",
    "df2['IDA_Yes']=dummies_IDA['IDA_Yes']\n",
    "df2['IDA_No']=dummies_IDA['IDA_No']\n",
    "df2['IDA_NA']=dummies_IDA['IDA_NA'] "
   ]
  },
  {
   "cell_type": "code",
   "execution_count": 20,
   "id": "4895bb06",
   "metadata": {},
   "outputs": [],
   "source": [
    "#Dropping one dummy value each to avoid a dummy loop\n",
    "df2 =df2.drop(['NUMMEAL_Meal3ormore', 'DWCYCLE_NormCywoHDry','EQUIPM_Steam','FH_NG','ST_Yes', 'SM_Yes','ID_Yes','IDA_Yes'], axis = 1)"
   ]
  },
  {
   "cell_type": "code",
   "execution_count": 21,
   "id": "b6b92bf9",
   "metadata": {},
   "outputs": [],
   "source": [
    "#Getting dummy variables \n",
    "\n",
    "dummies_Stories = pd.get_dummies(df2['STORIES'])\n",
    "dummies_POOL = pd.get_dummies(df2['POOL'])\n",
    "dummies_FUELPOOL=  pd.get_dummies(df2['FUELPOOL'])\n",
    "dummies_FUELTUB=  pd.get_dummies(df2['FUELTUB'])\n",
    "dummies_SIZRFRI1=  pd.get_dummies(df2['SIZRFRI1'])\n",
    "dummies_STOVENFUEL=  pd.get_dummies(df2['STOVENFUEL'])\n",
    "dummies_DUALCOOKTFUEL=  pd.get_dummies(df2['DUALCOOKTFUEL'])\n",
    "dummies_DUALOVENFUEL=  pd.get_dummies(df2['DUALOVENFUEL'])\n",
    "dummies_STOVEFUEL=  pd.get_dummies(df2['STOVEFUEL'])\n",
    "dummies_OVENFUEL=  pd.get_dummies(df2['OVENFUEL'])\n",
    "\n",
    "\n",
    "#Renaming the dummy variable columns \n",
    "dummies_Stories.columns = ['one_story', 'two_story','three_story', 'four/x_story', 'split_level_story','storiesnot_app']\n",
    "dummies_POOL.columns = ['yes_pool','no_pool','notapp_pool']\n",
    "dummies_FUELPOOL.columns = ['natural_pool', 'propane_pool', 'fuel_pool', 'ele_pool', 'solar_pool', 'NA_pool']\n",
    "dummies_FUELTUB.columns= ['natural_TUB','propane_TUB','ele_TUB','solar_TUB','otherfuel_TUB','fuelnotapp_TUB']\n",
    "dummies_SIZRFRI1.columns= ['halfsize_fri','small_fri','medium_fri','large_fri','verylarde_fri', 'notapp_fri']\n",
    "dummies_STOVENFUEL.columns= ['natural_sto','propane_sto','ele_sto','dual_sto','otherfuel_sto','fuelnotapp_sto']\n",
    "dummies_DUALCOOKTFUEL.columns= ['natural_dualcook','propane_dualcook','ele_dualcook','fuelnotapp_dualcook']\n",
    "dummies_DUALOVENFUEL.columns=['natural_dualoven','ele_dualoven','fuelnotapp_dualoven']\n",
    "dummies_STOVEFUEL.columns= ['natural_stov','propane_stov','ele_stov','fuelnotapp_stov']\n",
    "dummies_OVENFUEL.columns= ['natural_OF','propane_OF','ele_OF','otherfuel_OF','fuelnotapp_OF']\n",
    "\n",
    "#Combining with the main Dataframe\n",
    "\n",
    "#STORIES\n",
    "df2['one_story']= dummies_Stories['one_story']\n",
    "df2['two_story']= dummies_Stories['two_story']\n",
    "df2['three_story' ]= dummies_Stories['three_story' ]\n",
    "df2['four/x_story']= dummies_Stories['four/x_story']\n",
    "df2[ 'split_level_story']= dummies_Stories[ 'split_level_story']\n",
    "df2['not_app_stories']= dummies_Stories['storiesnot_app']\n",
    "\n",
    "#POOL\n",
    "df2 ['yes_pool']  = dummies_POOL['yes_pool']\n",
    "df2 ['no_pool']  = dummies_POOL['no_pool']\n",
    "df2['notapp_pool']  = dummies_POOL['notapp_pool']\n",
    "\n",
    "#FUELPOOL\n",
    "df2['natural_pool']= dummies_FUELPOOL['natural_pool']\n",
    "df2['propane_pool']= dummies_FUELPOOL['propane_pool']\n",
    "df2['fuel_pool']= dummies_FUELPOOL['fuel_pool']\n",
    "df2['ele_pool']= dummies_FUELPOOL['ele_pool']\n",
    "df2['solar_pool']= dummies_FUELPOOL['solar_pool']\n",
    "df2['NA_pool']= dummies_FUELPOOL['NA_pool']\n",
    "\n",
    "#FUELTUB\n",
    "df2['natural_TUB']= dummies_FUELTUB['natural_TUB']\n",
    "df2['propane_TUB']= dummies_FUELTUB['propane_TUB']\n",
    "df2['ele_TUB']= dummies_FUELTUB['ele_TUB']\n",
    "df2['solar_TUB']= dummies_FUELTUB['solar_TUB']\n",
    "df2['otherfuel_TUB']= dummies_FUELTUB['otherfuel_TUB']\n",
    "df2['fuelnotapp_TUB']= dummies_FUELTUB['fuelnotapp_TUB']\n",
    "\n",
    "#SIZRFRI1\n",
    "df2['halfsize_fri']= dummies_SIZRFRI1['halfsize_fri']\n",
    "df2['small_fri']= dummies_SIZRFRI1['small_fri']\n",
    "df2['medium_fri']= dummies_SIZRFRI1['medium_fri']\n",
    "df2['large_fri']= dummies_SIZRFRI1['large_fri']\n",
    "df2['verylarde_fri']= dummies_SIZRFRI1['verylarde_fri']\n",
    "df2['notapp_fri']= dummies_SIZRFRI1['notapp_fri']\n",
    "\n",
    "#STOVENFUEL\n",
    "df2['natural_sto']= dummies_STOVENFUEL['natural_sto']\n",
    "df2['propane_sto']= dummies_STOVENFUEL['propane_sto']\n",
    "df2['ele_sto']= dummies_STOVENFUEL['ele_sto']\n",
    "df2['solar_sto']= dummies_STOVENFUEL['dual_sto']\n",
    "df2['otherfuel_sto']= dummies_STOVENFUEL['otherfuel_sto']\n",
    "df2['fuelnotapp_sto']= dummies_STOVENFUEL['fuelnotapp_sto']\n",
    "\n",
    "#DUALCOOKTFUEL\n",
    "df2['natural_dualcook']= dummies_DUALCOOKTFUEL['natural_dualcook']\n",
    "df2['propane_dualcook']= dummies_DUALCOOKTFUEL['propane_dualcook']\n",
    "df2['ele_dualcook']= dummies_DUALCOOKTFUEL['ele_dualcook']\n",
    "df2['fuelnotapp_dualcook']= dummies_DUALCOOKTFUEL['fuelnotapp_dualcook']\n",
    "\n",
    "#DUALOVENFUEL\n",
    "df2['natural_dualoven']= dummies_DUALOVENFUEL['natural_dualoven']\n",
    "df2['ele_dualoven']= dummies_DUALOVENFUEL['ele_dualoven']\n",
    "df2['fuelnotapp_dualoven']= dummies_DUALOVENFUEL['fuelnotapp_dualoven']\n",
    "\n",
    "#STOVEFUEL\n",
    "df2['natural_stov']= dummies_STOVEFUEL['natural_stov']\n",
    "df2['propane_stov']= dummies_STOVEFUEL['propane_stov']\n",
    "df2['ele_stov']= dummies_STOVEFUEL['ele_stov']\n",
    "df2['fuelnotapp_stov']= dummies_STOVEFUEL['fuelnotapp_stov']\n",
    "\n",
    "#OVENFUEL\n",
    "df2['natural_OF']= dummies_OVENFUEL['natural_OF']\n",
    "df2['propane_OF']= dummies_OVENFUEL['propane_OF']\n",
    "df2['ele_OF']= dummies_OVENFUEL['ele_OF']\n",
    "df2['otherfuel_OF']= dummies_OVENFUEL['otherfuel_OF']\n",
    "df2['fuelnotapp_OF']= dummies_OVENFUEL['fuelnotapp_OF']\n",
    "\n",
    "\n",
    "\n",
    "#Resetting index and dropping original columns\n",
    "df2=df2.drop(['STORIES', ], axis = 1)\n",
    "df2=df2.drop(['FUELPOOL', ], axis = 1)\n",
    "df2 =df2.drop(['POOL', ], axis = 1)\n",
    "df2 =df2.drop(['FUELTUB', ], axis = 1)\n",
    "df2 =df2.drop(['SIZRFRI1', ], axis = 1)\n",
    "df2 =df2.drop(['STOVENFUEL', ], axis = 1)\n",
    "df2 =df2.drop(['DUALCOOKTFUEL', ], axis = 1)\n",
    "df2 =df2.drop(['DUALOVENFUEL', ], axis = 1)\n",
    "df2 =df2.drop(['STOVEFUEL', ], axis = 1)\n",
    "df2 =df2.drop(['OVENFUEL', ], axis = 1)\n",
    "df2.reset_index(drop=True, inplace=True) "
   ]
  },
  {
   "cell_type": "code",
   "execution_count": 22,
   "id": "2e4ef0e4",
   "metadata": {},
   "outputs": [],
   "source": [
    "#Dropping one dummy value each to avoid a dummy loop\n",
    "df2 =df2.drop(['natural_OF', 'natural_stov','natural_dualoven','natural_sto','natural_dualcook', 'halfsize_fri','natural_TUB','natural_pool','yes_pool','one_story'], axis = 1)"
   ]
  },
  {
   "cell_type": "code",
   "execution_count": 23,
   "id": "f4a1366e",
   "metadata": {},
   "outputs": [],
   "source": [
    "df2['KWH'] = df['KWH']\n",
    "df3 = pd.get_dummies(df2,columns=['REGIONC'], drop_first=True)"
   ]
  },
  {
   "cell_type": "code",
   "execution_count": 24,
   "id": "b0a1e494",
   "metadata": {},
   "outputs": [],
   "source": [
    "df3 = df2.drop(df2[df2['KWH']>=50000].index)\n",
    "df3 = df2.drop(df2[df2['NUMFRIG']>=4].index)\n",
    "df3 = df2.drop(df2[df2['NUMFRIG']==0].index)\n",
    "df3 = df3.drop(columns = [\"REGIONC\"], axis = 1)"
   ]
  },
  {
   "cell_type": "code",
   "execution_count": 25,
   "id": "2f6af66a",
   "metadata": {},
   "outputs": [],
   "source": [
    "#Creating Initial data for splitting\n",
    "X = df3.drop(columns = [\"KWH\"], axis = 1)\n",
    "y = df3[\"KWH\"]"
   ]
  },
  {
   "cell_type": "code",
   "execution_count": 26,
   "id": "5b98de6d",
   "metadata": {},
   "outputs": [],
   "source": [
    "#Splitting data into 80% train and 20% test data\n",
    "from sklearn.model_selection import train_test_split\n",
    "X_train, X_test, y_train, y_test = train_test_split(X, y, test_size=0.2, random_state=25)"
   ]
  },
  {
   "cell_type": "markdown",
   "id": "9b873cfb",
   "metadata": {},
   "source": [
    "### Prediction Model 1: Random Forest Regressor"
   ]
  },
  {
   "cell_type": "code",
   "execution_count": 27,
   "id": "0fbcaeb4",
   "metadata": {},
   "outputs": [
    {
     "data": {
      "text/plain": [
       "RandomForestRegressor(random_state=25)"
      ]
     },
     "execution_count": 27,
     "metadata": {},
     "output_type": "execute_result"
    }
   ],
   "source": [
    "#Importing and initializing Random Forest Regression model\n",
    "rf = se.RandomForestRegressor(n_estimators=100, random_state=25)\n",
    "rf.fit(X_train, y_train)"
   ]
  },
  {
   "cell_type": "code",
   "execution_count": 28,
   "id": "5e7abc8e",
   "metadata": {},
   "outputs": [
    {
     "name": "stdout",
     "output_type": "stream",
     "text": [
      "R squared of the Linear Regression on training set: 93.22%\n",
      "R squared of the Linear Regression on test set: 47.99%\n"
     ]
    }
   ],
   "source": [
    "#Calculating R squared for train and test data\n",
    "print(\"R squared of the Linear Regression on training set: {:.2%}\".format(rf.score(X_train, y_train)))\n",
    "print(\"R squared of the Linear Regression on test set: {:.2%}\".format(rf.score(X_test, y_test)))"
   ]
  },
  {
   "cell_type": "code",
   "execution_count": 29,
   "id": "19848cce",
   "metadata": {},
   "outputs": [
    {
     "data": {
      "text/plain": [
       "<AxesSubplot:xlabel='KWH'>"
      ]
     },
     "execution_count": 29,
     "metadata": {},
     "output_type": "execute_result"
    },
    {
     "data": {
      "image/png": "[encoded data removed]",
      "text/plain": [
       "<Figure size 432x288 with 1 Axes>"
      ]
     },
     "metadata": {
      "needs_background": "light"
     },
     "output_type": "display_data"
    }
   ],
   "source": [
    "#Predicting test data\n",
    "y_pred2 = rf.predict(X_test)\n",
    "sns.scatterplot(x=y_test , y=y_pred2, color=\"green\")"
   ]
  },
  {
   "cell_type": "code",
   "execution_count": 30,
   "id": "c06e5bc7",
   "metadata": {},
   "outputs": [
    {
     "data": {
      "text/html": [
       "<div>\n",
       "<style scoped>\n",
       "    .dataframe tbody tr th:only-of-type {\n",
       "        vertical-align: middle;\n",
       "    }\n",
       "\n",
       "    .dataframe tbody tr th {\n",
       "        vertical-align: top;\n",
       "    }\n",
       "\n",
       "    .dataframe thead th {\n",
       "        text-align: right;\n",
       "    }\n",
       "</style>\n",
       "<table border=\"1\" class=\"dataframe\">\n",
       "  <thead>\n",
       "    <tr style=\"text-align: right;\">\n",
       "      <th></th>\n",
       "      <th>true</th>\n",
       "      <th>predicted</th>\n",
       "      <th>diff</th>\n",
       "    </tr>\n",
       "  </thead>\n",
       "  <tbody>\n",
       "    <tr>\n",
       "      <th>4538</th>\n",
       "      <td>15660.694</td>\n",
       "      <td>11211.17087</td>\n",
       "      <td>-4449.52313</td>\n",
       "    </tr>\n",
       "    <tr>\n",
       "      <th>1458</th>\n",
       "      <td>22464.928</td>\n",
       "      <td>18187.90898</td>\n",
       "      <td>-4277.01902</td>\n",
       "    </tr>\n",
       "    <tr>\n",
       "      <th>5586</th>\n",
       "      <td>6426.433</td>\n",
       "      <td>5716.06881</td>\n",
       "      <td>-710.36419</td>\n",
       "    </tr>\n",
       "    <tr>\n",
       "      <th>45</th>\n",
       "      <td>3104.036</td>\n",
       "      <td>9057.76525</td>\n",
       "      <td>5953.72925</td>\n",
       "    </tr>\n",
       "    <tr>\n",
       "      <th>648</th>\n",
       "      <td>5451.222</td>\n",
       "      <td>6320.74565</td>\n",
       "      <td>869.52365</td>\n",
       "    </tr>\n",
       "    <tr>\n",
       "      <th>...</th>\n",
       "      <td>...</td>\n",
       "      <td>...</td>\n",
       "      <td>...</td>\n",
       "    </tr>\n",
       "    <tr>\n",
       "      <th>1563</th>\n",
       "      <td>5235.000</td>\n",
       "      <td>4883.65441</td>\n",
       "      <td>-351.34559</td>\n",
       "    </tr>\n",
       "    <tr>\n",
       "      <th>4785</th>\n",
       "      <td>4480.097</td>\n",
       "      <td>8649.96429</td>\n",
       "      <td>4169.86729</td>\n",
       "    </tr>\n",
       "    <tr>\n",
       "      <th>1975</th>\n",
       "      <td>7700.000</td>\n",
       "      <td>11778.72993</td>\n",
       "      <td>4078.72993</td>\n",
       "    </tr>\n",
       "    <tr>\n",
       "      <th>1361</th>\n",
       "      <td>12786.752</td>\n",
       "      <td>11202.63955</td>\n",
       "      <td>-1584.11245</td>\n",
       "    </tr>\n",
       "    <tr>\n",
       "      <th>4519</th>\n",
       "      <td>5214.000</td>\n",
       "      <td>5198.42309</td>\n",
       "      <td>-15.57691</td>\n",
       "    </tr>\n",
       "  </tbody>\n",
       "</table>\n",
       "<p>1131 rows × 3 columns</p>\n",
       "</div>"
      ],
      "text/plain": [
       "           true    predicted        diff\n",
       "4538  15660.694  11211.17087 -4449.52313\n",
       "1458  22464.928  18187.90898 -4277.01902\n",
       "5586   6426.433   5716.06881  -710.36419\n",
       "45     3104.036   9057.76525  5953.72925\n",
       "648    5451.222   6320.74565   869.52365\n",
       "...         ...          ...         ...\n",
       "1563   5235.000   4883.65441  -351.34559\n",
       "4785   4480.097   8649.96429  4169.86729\n",
       "1975   7700.000  11778.72993  4078.72993\n",
       "1361  12786.752  11202.63955 -1584.11245\n",
       "4519   5214.000   5198.42309   -15.57691\n",
       "\n",
       "[1131 rows x 3 columns]"
      ]
     },
     "execution_count": 30,
     "metadata": {},
     "output_type": "execute_result"
    }
   ],
   "source": [
    "d = {'true': y_test, 'predicted': y_pred2}\n",
    "df_lr = pd.DataFrame(data=d)\n",
    "df_lr['diff'] = df_lr['predicted']-df_lr['true']\n",
    "df_lr"
   ]
  },
  {
   "cell_type": "code",
   "execution_count": 31,
   "id": "6eebcf37",
   "metadata": {},
   "outputs": [
    {
     "name": "stdout",
     "output_type": "stream",
     "text": [
      "MAE: 3541.5642839787797\n",
      "MSE: 25497200.872766085\n",
      "RMSE: 5049.475306679506\n"
     ]
    }
   ],
   "source": [
    "#Calculating metrics\n",
    "print('MAE:', metrics.mean_absolute_error(y_test,y_pred2))\n",
    "print('MSE:', metrics.mean_squared_error(y_test,y_pred2))\n",
    "print('RMSE:', np.sqrt(metrics.mean_squared_error(y_test,y_pred2)))"
   ]
  },
  {
   "cell_type": "code",
   "execution_count": 32,
   "id": "1419da78",
   "metadata": {},
   "outputs": [
    {
     "name": "stdout",
     "output_type": "stream",
     "text": [
      "Mean Squared Log Error of the Random Forest on test set is 20.26%\n",
      "Accuracy 79.74%\n"
     ]
    }
   ],
   "source": [
    "#Calculating Accuracy\n",
    "print(\"Mean Squared Log Error of the Random Forest on test set is {:.2%}\".format(metrics.mean_squared_log_error(y_test,y_pred2)))\n",
    "print(\"Accuracy {:.2%}\".format(1-metrics.mean_squared_log_error(y_test,y_pred2)))"
   ]
  },
  {
   "cell_type": "markdown",
   "id": "4ca3f68b",
   "metadata": {},
   "source": [
    "### Prediction Model 2: KNN Regressor"
   ]
  },
  {
   "cell_type": "code",
   "execution_count": 33,
   "id": "f71be664",
   "metadata": {},
   "outputs": [
    {
     "data": {
      "text/plain": [
       "KNeighborsRegressor()"
      ]
     },
     "execution_count": 33,
     "metadata": {},
     "output_type": "execute_result"
    }
   ],
   "source": [
    "#Importing and initializing Knn Regression model\n",
    "knn = KNeighborsRegressor()\n",
    "knn.fit(X_train, y_train)"
   ]
  },
  {
   "cell_type": "code",
   "execution_count": 34,
   "id": "43b7f572",
   "metadata": {},
   "outputs": [
    {
     "name": "stdout",
     "output_type": "stream",
     "text": [
      "R squared of the Random Forest Regressor on training set: 54.20%\n",
      "R squared of the Random Forest Regressor on test set: 29.09%\n"
     ]
    }
   ],
   "source": [
    "#Calculating R squared for train and test data\n",
    "print(\"R squared of the Random Forest Regressor on training set: {:.2%}\".format(knn.score(X_train, y_train)))\n",
    "print(\"R squared of the Random Forest Regressor on test set: {:.2%}\".format(knn.score(X_test, y_test)))"
   ]
  },
  {
   "cell_type": "code",
   "execution_count": 35,
   "id": "8d3b2db7",
   "metadata": {},
   "outputs": [
    {
     "data": {
      "text/plain": [
       "<AxesSubplot:xlabel='KWH'>"
      ]
     },
     "execution_count": 35,
     "metadata": {},
     "output_type": "execute_result"
    },
    {
     "data": {
      "image/png": "[encoded data removed]",
      "text/plain": [
       "<Figure size 432x288 with 1 Axes>"
      ]
     },
     "metadata": {
      "needs_background": "light"
     },
     "output_type": "display_data"
    }
   ],
   "source": [
    "#Predicting test data\n",
    "y_pred3 = knn.predict(X_test)\n",
    "sns.scatterplot(x=y_test , y=y_pred3, color=\"blue\")"
   ]
  },
  {
   "cell_type": "code",
   "execution_count": 36,
   "id": "ba907aa2",
   "metadata": {},
   "outputs": [
    {
     "data": {
      "text/html": [
       "<div>\n",
       "<style scoped>\n",
       "    .dataframe tbody tr th:only-of-type {\n",
       "        vertical-align: middle;\n",
       "    }\n",
       "\n",
       "    .dataframe tbody tr th {\n",
       "        vertical-align: top;\n",
       "    }\n",
       "\n",
       "    .dataframe thead th {\n",
       "        text-align: right;\n",
       "    }\n",
       "</style>\n",
       "<table border=\"1\" class=\"dataframe\">\n",
       "  <thead>\n",
       "    <tr style=\"text-align: right;\">\n",
       "      <th></th>\n",
       "      <th>true</th>\n",
       "      <th>predicted</th>\n",
       "      <th>diff</th>\n",
       "    </tr>\n",
       "  </thead>\n",
       "  <tbody>\n",
       "    <tr>\n",
       "      <th>4538</th>\n",
       "      <td>15660.694</td>\n",
       "      <td>10929.4786</td>\n",
       "      <td>-4731.2154</td>\n",
       "    </tr>\n",
       "    <tr>\n",
       "      <th>1458</th>\n",
       "      <td>22464.928</td>\n",
       "      <td>5021.6452</td>\n",
       "      <td>-17443.2828</td>\n",
       "    </tr>\n",
       "    <tr>\n",
       "      <th>5586</th>\n",
       "      <td>6426.433</td>\n",
       "      <td>4562.7986</td>\n",
       "      <td>-1863.6344</td>\n",
       "    </tr>\n",
       "    <tr>\n",
       "      <th>45</th>\n",
       "      <td>3104.036</td>\n",
       "      <td>10606.1722</td>\n",
       "      <td>7502.1362</td>\n",
       "    </tr>\n",
       "    <tr>\n",
       "      <th>648</th>\n",
       "      <td>5451.222</td>\n",
       "      <td>5537.1212</td>\n",
       "      <td>85.8992</td>\n",
       "    </tr>\n",
       "    <tr>\n",
       "      <th>...</th>\n",
       "      <td>...</td>\n",
       "      <td>...</td>\n",
       "      <td>...</td>\n",
       "    </tr>\n",
       "    <tr>\n",
       "      <th>1563</th>\n",
       "      <td>5235.000</td>\n",
       "      <td>8866.4862</td>\n",
       "      <td>3631.4862</td>\n",
       "    </tr>\n",
       "    <tr>\n",
       "      <th>4785</th>\n",
       "      <td>4480.097</td>\n",
       "      <td>6699.2632</td>\n",
       "      <td>2219.1662</td>\n",
       "    </tr>\n",
       "    <tr>\n",
       "      <th>1975</th>\n",
       "      <td>7700.000</td>\n",
       "      <td>9298.0946</td>\n",
       "      <td>1598.0946</td>\n",
       "    </tr>\n",
       "    <tr>\n",
       "      <th>1361</th>\n",
       "      <td>12786.752</td>\n",
       "      <td>13038.9428</td>\n",
       "      <td>252.1908</td>\n",
       "    </tr>\n",
       "    <tr>\n",
       "      <th>4519</th>\n",
       "      <td>5214.000</td>\n",
       "      <td>5304.4948</td>\n",
       "      <td>90.4948</td>\n",
       "    </tr>\n",
       "  </tbody>\n",
       "</table>\n",
       "<p>1131 rows × 3 columns</p>\n",
       "</div>"
      ],
      "text/plain": [
       "           true   predicted        diff\n",
       "4538  15660.694  10929.4786  -4731.2154\n",
       "1458  22464.928   5021.6452 -17443.2828\n",
       "5586   6426.433   4562.7986  -1863.6344\n",
       "45     3104.036  10606.1722   7502.1362\n",
       "648    5451.222   5537.1212     85.8992\n",
       "...         ...         ...         ...\n",
       "1563   5235.000   8866.4862   3631.4862\n",
       "4785   4480.097   6699.2632   2219.1662\n",
       "1975   7700.000   9298.0946   1598.0946\n",
       "1361  12786.752  13038.9428    252.1908\n",
       "4519   5214.000   5304.4948     90.4948\n",
       "\n",
       "[1131 rows x 3 columns]"
      ]
     },
     "execution_count": 36,
     "metadata": {},
     "output_type": "execute_result"
    }
   ],
   "source": [
    "p = {'true': y_test, 'predicted': y_pred3}\n",
    "pf_knn = pd.DataFrame(data=p)\n",
    "pf_knn['diff'] = pf_knn['predicted']-pf_knn['true']\n",
    "pf_knn"
   ]
  },
  {
   "cell_type": "code",
   "execution_count": 37,
   "id": "33c664cf",
   "metadata": {},
   "outputs": [
    {
     "name": "stdout",
     "output_type": "stream",
     "text": [
      "MAE: 4291.325557559681\n",
      "MSE: 34760514.549651206\n",
      "RMSE: 5895.804826285484\n"
     ]
    }
   ],
   "source": [
    "#Calculating metrics\n",
    "print('MAE:', metrics.mean_absolute_error(y_test,y_pred3))\n",
    "print('MSE:', metrics.mean_squared_error(y_test,y_pred3))\n",
    "print('RMSE:', np.sqrt(metrics.mean_squared_error(y_test,y_pred3)))"
   ]
  },
  {
   "cell_type": "code",
   "execution_count": 38,
   "id": "669f113c",
   "metadata": {},
   "outputs": [
    {
     "name": "stdout",
     "output_type": "stream",
     "text": [
      "Mean Squared Log Error of the Random Forest on test set is 28.68%\n",
      "Accuracy 71.32%\n"
     ]
    }
   ],
   "source": [
    "#Calculating Accuracy\n",
    "print(\"Mean Squared Log Error of the Random Forest on test set is {:.2%}\".format(metrics.mean_squared_log_error(y_test,y_pred3)))\n",
    "print(\"Accuracy {:.2%}\".format(1-metrics.mean_squared_log_error(y_test,y_pred3)))"
   ]
  },
  {
   "cell_type": "markdown",
   "id": "533b3450",
   "metadata": {},
   "source": [
    "### Prediction Model 3: Decision Regression"
   ]
  },
  {
   "cell_type": "code",
   "execution_count": 39,
   "id": "1f97c8ee",
   "metadata": {},
   "outputs": [
    {
     "data": {
      "text/plain": [
       "DecisionTreeRegressor(random_state=25)"
      ]
     },
     "execution_count": 39,
     "metadata": {},
     "output_type": "execute_result"
    }
   ],
   "source": [
    "#Importing and initializing Decision Tree Regressor\n",
    "tree = st.DecisionTreeRegressor(random_state=25)\n",
    "tree.fit(X_train, y_train)"
   ]
  },
  {
   "cell_type": "code",
   "execution_count": 40,
   "id": "b5acc1b2",
   "metadata": {},
   "outputs": [
    {
     "name": "stdout",
     "output_type": "stream",
     "text": [
      "R squared of the Linear Regression on training set: 100.00%\n",
      "R squared of the Linear Regression on test set: -3.08%\n"
     ]
    }
   ],
   "source": [
    "#Calculating R squared for train and test data\n",
    "print(\"R squared of the Linear Regression on training set: {:.2%}\".format(tree.score(X_train, y_train)))\n",
    "print(\"R squared of the Linear Regression on test set: {:.2%}\".format(tree.score(X_test, y_test)))"
   ]
  },
  {
   "cell_type": "code",
   "execution_count": 41,
   "id": "648048d0",
   "metadata": {},
   "outputs": [
    {
     "data": {
      "text/plain": [
       "<AxesSubplot:xlabel='KWH'>"
      ]
     },
     "execution_count": 41,
     "metadata": {},
     "output_type": "execute_result"
    },
    {
     "data": {
      "image/png": "[encoded data removed]",
      "text/plain": [
       "<Figure size 432x288 with 1 Axes>"
      ]
     },
     "metadata": {
      "needs_background": "light"
     },
     "output_type": "display_data"
    }
   ],
   "source": [
    "#Predicting test data\n",
    "y_pred5 = tree.predict(X_test)\n",
    "sns.scatterplot(x=y_test , y=y_pred5, color=\"blue\")"
   ]
  },
  {
   "cell_type": "code",
   "execution_count": 42,
   "id": "1332a1c5",
   "metadata": {},
   "outputs": [
    {
     "data": {
      "text/html": [
       "<div>\n",
       "<style scoped>\n",
       "    .dataframe tbody tr th:only-of-type {\n",
       "        vertical-align: middle;\n",
       "    }\n",
       "\n",
       "    .dataframe tbody tr th {\n",
       "        vertical-align: top;\n",
       "    }\n",
       "\n",
       "    .dataframe thead th {\n",
       "        text-align: right;\n",
       "    }\n",
       "</style>\n",
       "<table border=\"1\" class=\"dataframe\">\n",
       "  <thead>\n",
       "    <tr style=\"text-align: right;\">\n",
       "      <th></th>\n",
       "      <th>true</th>\n",
       "      <th>predicted</th>\n",
       "      <th>diff</th>\n",
       "    </tr>\n",
       "  </thead>\n",
       "  <tbody>\n",
       "    <tr>\n",
       "      <th>4538</th>\n",
       "      <td>15660.694</td>\n",
       "      <td>10962.130</td>\n",
       "      <td>-4698.564</td>\n",
       "    </tr>\n",
       "    <tr>\n",
       "      <th>1458</th>\n",
       "      <td>22464.928</td>\n",
       "      <td>7729.500</td>\n",
       "      <td>-14735.428</td>\n",
       "    </tr>\n",
       "    <tr>\n",
       "      <th>5586</th>\n",
       "      <td>6426.433</td>\n",
       "      <td>2588.800</td>\n",
       "      <td>-3837.633</td>\n",
       "    </tr>\n",
       "    <tr>\n",
       "      <th>45</th>\n",
       "      <td>3104.036</td>\n",
       "      <td>9037.228</td>\n",
       "      <td>5933.192</td>\n",
       "    </tr>\n",
       "    <tr>\n",
       "      <th>648</th>\n",
       "      <td>5451.222</td>\n",
       "      <td>4690.000</td>\n",
       "      <td>-761.222</td>\n",
       "    </tr>\n",
       "    <tr>\n",
       "      <th>...</th>\n",
       "      <td>...</td>\n",
       "      <td>...</td>\n",
       "      <td>...</td>\n",
       "    </tr>\n",
       "    <tr>\n",
       "      <th>1563</th>\n",
       "      <td>5235.000</td>\n",
       "      <td>4340.000</td>\n",
       "      <td>-895.000</td>\n",
       "    </tr>\n",
       "    <tr>\n",
       "      <th>4785</th>\n",
       "      <td>4480.097</td>\n",
       "      <td>13565.211</td>\n",
       "      <td>9085.114</td>\n",
       "    </tr>\n",
       "    <tr>\n",
       "      <th>1975</th>\n",
       "      <td>7700.000</td>\n",
       "      <td>13802.004</td>\n",
       "      <td>6102.004</td>\n",
       "    </tr>\n",
       "    <tr>\n",
       "      <th>1361</th>\n",
       "      <td>12786.752</td>\n",
       "      <td>15404.000</td>\n",
       "      <td>2617.248</td>\n",
       "    </tr>\n",
       "    <tr>\n",
       "      <th>4519</th>\n",
       "      <td>5214.000</td>\n",
       "      <td>2647.602</td>\n",
       "      <td>-2566.398</td>\n",
       "    </tr>\n",
       "  </tbody>\n",
       "</table>\n",
       "<p>1131 rows × 3 columns</p>\n",
       "</div>"
      ],
      "text/plain": [
       "           true  predicted       diff\n",
       "4538  15660.694  10962.130  -4698.564\n",
       "1458  22464.928   7729.500 -14735.428\n",
       "5586   6426.433   2588.800  -3837.633\n",
       "45     3104.036   9037.228   5933.192\n",
       "648    5451.222   4690.000   -761.222\n",
       "...         ...        ...        ...\n",
       "1563   5235.000   4340.000   -895.000\n",
       "4785   4480.097  13565.211   9085.114\n",
       "1975   7700.000  13802.004   6102.004\n",
       "1361  12786.752  15404.000   2617.248\n",
       "4519   5214.000   2647.602  -2566.398\n",
       "\n",
       "[1131 rows x 3 columns]"
      ]
     },
     "execution_count": 42,
     "metadata": {},
     "output_type": "execute_result"
    }
   ],
   "source": [
    "tti = {'true': y_test, 'predicted': y_pred5}\n",
    "tti_lr = pd.DataFrame(data=tti)\n",
    "tti_lr['diff'] = tti_lr['predicted']-tti_lr['true']\n",
    "tti_lr"
   ]
  },
  {
   "cell_type": "code",
   "execution_count": 43,
   "id": "c0c9f5b5",
   "metadata": {},
   "outputs": [
    {
     "name": "stdout",
     "output_type": "stream",
     "text": [
      "MAE: 5112.73756852343\n",
      "MSE: 50532178.00882111\n",
      "RMSE: 7108.598878036452\n"
     ]
    }
   ],
   "source": [
    "#Calculating metrics\n",
    "print('MAE:', metrics.mean_absolute_error(y_test,y_pred5))\n",
    "print('MSE:', metrics.mean_squared_error(y_test,y_pred5))\n",
    "print('RMSE:', np.sqrt(metrics.mean_squared_error(y_test,y_pred5)))"
   ]
  },
  {
   "cell_type": "code",
   "execution_count": 44,
   "id": "a6cd8382",
   "metadata": {},
   "outputs": [
    {
     "name": "stdout",
     "output_type": "stream",
     "text": [
      "Mean Squared Log Error of the Random Forest on test set is 42.25%\n",
      "Accuracy 57.75%\n"
     ]
    }
   ],
   "source": [
    "#Calculating Accuracy\n",
    "print(\"Mean Squared Log Error of the Random Forest on test set is {:.2%}\".format(metrics.mean_squared_log_error(y_test,y_pred5)))\n",
    "print(\"Accuracy {:.2%}\".format(1-metrics.mean_squared_log_error(y_test,y_pred5)))"
   ]
  },
  {
   "cell_type": "markdown",
   "id": "88550132",
   "metadata": {},
   "source": [
    "### Prediction Model 4: Lasso Regression"
   ]
  },
  {
   "cell_type": "code",
   "execution_count": 45,
   "id": "86dbe5c1",
   "metadata": {},
   "outputs": [
    {
     "data": {
      "text/plain": [
       "Lasso()"
      ]
     },
     "execution_count": 45,
     "metadata": {},
     "output_type": "execute_result"
    }
   ],
   "source": [
    "#Importing and initializing Lasso Regression model\n",
    "lasso = Lasso()\n",
    "lasso.fit(X_train, y_train)"
   ]
  },
  {
   "cell_type": "code",
   "execution_count": 46,
   "id": "73813caa",
   "metadata": {},
   "outputs": [
    {
     "name": "stdout",
     "output_type": "stream",
     "text": [
      "R squared of the Linear Regression on training set: 55.69%\n",
      "R squared of the Linear Regression on test set: 49.79%\n"
     ]
    }
   ],
   "source": [
    "#Calculating R squared for train and test data\n",
    "print(\"R squared of the Linear Regression on training set: {:.2%}\".format(lasso.score(X_train, y_train)))\n",
    "print(\"R squared of the Linear Regression on test set: {:.2%}\".format(lasso.score(X_test, y_test)))"
   ]
  },
  {
   "cell_type": "code",
   "execution_count": 47,
   "id": "c959f964",
   "metadata": {},
   "outputs": [
    {
     "data": {
      "text/plain": [
       "<AxesSubplot:xlabel='KWH'>"
      ]
     },
     "execution_count": 47,
     "metadata": {},
     "output_type": "execute_result"
    },
    {
     "data": {
      "image/png": "[encoded data removed]",
      "text/plain": [
       "<Figure size 432x288 with 1 Axes>"
      ]
     },
     "metadata": {
      "needs_background": "light"
     },
     "output_type": "display_data"
    }
   ],
   "source": [
    "#Predicting test data\n",
    "y_pred1 = lasso.predict(X_test)\n",
    "sns.scatterplot(x=y_test , y=y_pred1, color=\"blue\")"
   ]
  },
  {
   "cell_type": "code",
   "execution_count": 48,
   "id": "505e662a",
   "metadata": {},
   "outputs": [
    {
     "data": {
      "text/html": [
       "<div>\n",
       "<style scoped>\n",
       "    .dataframe tbody tr th:only-of-type {\n",
       "        vertical-align: middle;\n",
       "    }\n",
       "\n",
       "    .dataframe tbody tr th {\n",
       "        vertical-align: top;\n",
       "    }\n",
       "\n",
       "    .dataframe thead th {\n",
       "        text-align: right;\n",
       "    }\n",
       "</style>\n",
       "<table border=\"1\" class=\"dataframe\">\n",
       "  <thead>\n",
       "    <tr style=\"text-align: right;\">\n",
       "      <th></th>\n",
       "      <th>true</th>\n",
       "      <th>predicted</th>\n",
       "      <th>diff</th>\n",
       "    </tr>\n",
       "  </thead>\n",
       "  <tbody>\n",
       "    <tr>\n",
       "      <th>4538</th>\n",
       "      <td>15660.694</td>\n",
       "      <td>14276.639983</td>\n",
       "      <td>-1384.054017</td>\n",
       "    </tr>\n",
       "    <tr>\n",
       "      <th>1458</th>\n",
       "      <td>22464.928</td>\n",
       "      <td>23117.623790</td>\n",
       "      <td>652.695790</td>\n",
       "    </tr>\n",
       "    <tr>\n",
       "      <th>5586</th>\n",
       "      <td>6426.433</td>\n",
       "      <td>6215.671042</td>\n",
       "      <td>-210.761958</td>\n",
       "    </tr>\n",
       "    <tr>\n",
       "      <th>45</th>\n",
       "      <td>3104.036</td>\n",
       "      <td>6172.636248</td>\n",
       "      <td>3068.600248</td>\n",
       "    </tr>\n",
       "    <tr>\n",
       "      <th>648</th>\n",
       "      <td>5451.222</td>\n",
       "      <td>6124.433495</td>\n",
       "      <td>673.211495</td>\n",
       "    </tr>\n",
       "    <tr>\n",
       "      <th>...</th>\n",
       "      <td>...</td>\n",
       "      <td>...</td>\n",
       "      <td>...</td>\n",
       "    </tr>\n",
       "    <tr>\n",
       "      <th>1563</th>\n",
       "      <td>5235.000</td>\n",
       "      <td>7380.671073</td>\n",
       "      <td>2145.671073</td>\n",
       "    </tr>\n",
       "    <tr>\n",
       "      <th>4785</th>\n",
       "      <td>4480.097</td>\n",
       "      <td>2703.968571</td>\n",
       "      <td>-1776.128429</td>\n",
       "    </tr>\n",
       "    <tr>\n",
       "      <th>1975</th>\n",
       "      <td>7700.000</td>\n",
       "      <td>11226.659604</td>\n",
       "      <td>3526.659604</td>\n",
       "    </tr>\n",
       "    <tr>\n",
       "      <th>1361</th>\n",
       "      <td>12786.752</td>\n",
       "      <td>13847.959055</td>\n",
       "      <td>1061.207055</td>\n",
       "    </tr>\n",
       "    <tr>\n",
       "      <th>4519</th>\n",
       "      <td>5214.000</td>\n",
       "      <td>6086.908840</td>\n",
       "      <td>872.908840</td>\n",
       "    </tr>\n",
       "  </tbody>\n",
       "</table>\n",
       "<p>1131 rows × 3 columns</p>\n",
       "</div>"
      ],
      "text/plain": [
       "           true     predicted         diff\n",
       "4538  15660.694  14276.639983 -1384.054017\n",
       "1458  22464.928  23117.623790   652.695790\n",
       "5586   6426.433   6215.671042  -210.761958\n",
       "45     3104.036   6172.636248  3068.600248\n",
       "648    5451.222   6124.433495   673.211495\n",
       "...         ...           ...          ...\n",
       "1563   5235.000   7380.671073  2145.671073\n",
       "4785   4480.097   2703.968571 -1776.128429\n",
       "1975   7700.000  11226.659604  3526.659604\n",
       "1361  12786.752  13847.959055  1061.207055\n",
       "4519   5214.000   6086.908840   872.908840\n",
       "\n",
       "[1131 rows x 3 columns]"
      ]
     },
     "execution_count": 48,
     "metadata": {},
     "output_type": "execute_result"
    }
   ],
   "source": [
    "l = {'true': y_test, 'predicted': y_pred1}\n",
    "l_lr = pd.DataFrame(data=l)\n",
    "l_lr['diff'] = l_lr['predicted']-l_lr['true']\n",
    "l_lr"
   ]
  },
  {
   "cell_type": "code",
   "execution_count": 49,
   "id": "e04d52da",
   "metadata": {},
   "outputs": [
    {
     "name": "stdout",
     "output_type": "stream",
     "text": [
      "MAE: 3502.9599493761834\n",
      "MSE: 24615184.276247635\n",
      "RMSE: 4961.369193705265\n"
     ]
    }
   ],
   "source": [
    "#Calculating metrics \n",
    "print('MAE:', metrics.mean_absolute_error(y_test,y_pred1))\n",
    "print('MSE:', metrics.mean_squared_error(y_test,y_pred1))\n",
    "print('RMSE:', np.sqrt(metrics.mean_squared_error(y_test,y_pred1)))"
   ]
  },
  {
   "cell_type": "code",
   "execution_count": 50,
   "id": "d62f2671",
   "metadata": {},
   "outputs": [
    {
     "ename": "ValueError",
     "evalue": "Mean Squared Logarithmic Error cannot be used when targets contain negative values.",
     "output_type": "error",
     "traceback": [
      "\u001b[1;31m---------------------------------------------------------------------------\u001b[0m",
      "\u001b[1;31mValueError\u001b[0m                                Traceback (most recent call last)",
      "\u001b[1;32m~\\AppData\\Local\\Temp/ipykernel_24108/1787423657.py\u001b[0m in \u001b[0;36m<module>\u001b[1;34m\u001b[0m\n\u001b[0;32m      1\u001b[0m \u001b[1;31m#Calculating Accuracy\u001b[0m\u001b[1;33m\u001b[0m\u001b[1;33m\u001b[0m\u001b[0m\n\u001b[1;32m----> 2\u001b[1;33m \u001b[0mprint\u001b[0m\u001b[1;33m(\u001b[0m\u001b[1;34m\"Mean Squared Log Error of the Random Forest on test set is {:.2%}\"\u001b[0m\u001b[1;33m.\u001b[0m\u001b[0mformat\u001b[0m\u001b[1;33m(\u001b[0m\u001b[0mmetrics\u001b[0m\u001b[1;33m.\u001b[0m\u001b[0mmean_squared_log_error\u001b[0m\u001b[1;33m(\u001b[0m\u001b[0my_test\u001b[0m\u001b[1;33m,\u001b[0m\u001b[0my_pred1\u001b[0m\u001b[1;33m)\u001b[0m\u001b[1;33m)\u001b[0m\u001b[1;33m)\u001b[0m\u001b[1;33m\u001b[0m\u001b[1;33m\u001b[0m\u001b[0m\n\u001b[0m\u001b[0;32m      3\u001b[0m \u001b[0mprint\u001b[0m\u001b[1;33m(\u001b[0m\u001b[1;34m\"Accuracy {:.2%}\"\u001b[0m\u001b[1;33m.\u001b[0m\u001b[0mformat\u001b[0m\u001b[1;33m(\u001b[0m\u001b[1;36m1\u001b[0m\u001b[1;33m-\u001b[0m\u001b[0mmetrics\u001b[0m\u001b[1;33m.\u001b[0m\u001b[0mmean_squared_log_error\u001b[0m\u001b[1;33m(\u001b[0m\u001b[0my_test\u001b[0m\u001b[1;33m,\u001b[0m\u001b[0my_pred1\u001b[0m\u001b[1;33m)\u001b[0m\u001b[1;33m)\u001b[0m\u001b[1;33m)\u001b[0m\u001b[1;33m\u001b[0m\u001b[1;33m\u001b[0m\u001b[0m\n",
      "\u001b[1;32m~\\anaconda3\\lib\\site-packages\\sklearn\\utils\\validation.py\u001b[0m in \u001b[0;36minner_f\u001b[1;34m(*args, **kwargs)\u001b[0m\n\u001b[0;32m     61\u001b[0m             \u001b[0mextra_args\u001b[0m \u001b[1;33m=\u001b[0m \u001b[0mlen\u001b[0m\u001b[1;33m(\u001b[0m\u001b[0margs\u001b[0m\u001b[1;33m)\u001b[0m \u001b[1;33m-\u001b[0m \u001b[0mlen\u001b[0m\u001b[1;33m(\u001b[0m\u001b[0mall_args\u001b[0m\u001b[1;33m)\u001b[0m\u001b[1;33m\u001b[0m\u001b[1;33m\u001b[0m\u001b[0m\n\u001b[0;32m     62\u001b[0m             \u001b[1;32mif\u001b[0m \u001b[0mextra_args\u001b[0m \u001b[1;33m<=\u001b[0m \u001b[1;36m0\u001b[0m\u001b[1;33m:\u001b[0m\u001b[1;33m\u001b[0m\u001b[1;33m\u001b[0m\u001b[0m\n\u001b[1;32m---> 63\u001b[1;33m                 \u001b[1;32mreturn\u001b[0m \u001b[0mf\u001b[0m\u001b[1;33m(\u001b[0m\u001b[1;33m*\u001b[0m\u001b[0margs\u001b[0m\u001b[1;33m,\u001b[0m \u001b[1;33m**\u001b[0m\u001b[0mkwargs\u001b[0m\u001b[1;33m)\u001b[0m\u001b[1;33m\u001b[0m\u001b[1;33m\u001b[0m\u001b[0m\n\u001b[0m\u001b[0;32m     64\u001b[0m \u001b[1;33m\u001b[0m\u001b[0m\n\u001b[0;32m     65\u001b[0m             \u001b[1;31m# extra_args > 0\u001b[0m\u001b[1;33m\u001b[0m\u001b[1;33m\u001b[0m\u001b[0m\n",
      "\u001b[1;32m~\\anaconda3\\lib\\site-packages\\sklearn\\metrics\\_regression.py\u001b[0m in \u001b[0;36mmean_squared_log_error\u001b[1;34m(y_true, y_pred, sample_weight, multioutput)\u001b[0m\n\u001b[0;32m    411\u001b[0m \u001b[1;33m\u001b[0m\u001b[0m\n\u001b[0;32m    412\u001b[0m     \u001b[1;32mif\u001b[0m \u001b[1;33m(\u001b[0m\u001b[0my_true\u001b[0m \u001b[1;33m<\u001b[0m \u001b[1;36m0\u001b[0m\u001b[1;33m)\u001b[0m\u001b[1;33m.\u001b[0m\u001b[0many\u001b[0m\u001b[1;33m(\u001b[0m\u001b[1;33m)\u001b[0m \u001b[1;32mor\u001b[0m \u001b[1;33m(\u001b[0m\u001b[0my_pred\u001b[0m \u001b[1;33m<\u001b[0m \u001b[1;36m0\u001b[0m\u001b[1;33m)\u001b[0m\u001b[1;33m.\u001b[0m\u001b[0many\u001b[0m\u001b[1;33m(\u001b[0m\u001b[1;33m)\u001b[0m\u001b[1;33m:\u001b[0m\u001b[1;33m\u001b[0m\u001b[1;33m\u001b[0m\u001b[0m\n\u001b[1;32m--> 413\u001b[1;33m         raise ValueError(\"Mean Squared Logarithmic Error cannot be used when \"\n\u001b[0m\u001b[0;32m    414\u001b[0m                          \"targets contain negative values.\")\n\u001b[0;32m    415\u001b[0m \u001b[1;33m\u001b[0m\u001b[0m\n",
      "\u001b[1;31mValueError\u001b[0m: Mean Squared Logarithmic Error cannot be used when targets contain negative values."
     ]
    }
   ],
   "source": [
    "#Calculating Accuracy\n",
    "print(\"Mean Squared Log Error of the Random Forest on test set is {:.2%}\".format(metrics.mean_squared_log_error(y_test,y_pred1)))\n",
    "print(\"Accuracy {:.2%}\".format(1-metrics.mean_squared_log_error(y_test,y_pred1)))"
   ]
  },
  {
   "cell_type": "code",
   "execution_count": null,
   "id": "130240bd",
   "metadata": {},
   "outputs": [],
   "source": [
    "#Plotting prediction to depict negative values \n",
    "sns.distplot((y_pred1-y_test),bins=50, color= \"blue\");"
   ]
  },
  {
   "cell_type": "code",
   "execution_count": 51,
   "id": "112a886f",
   "metadata": {},
   "outputs": [
    {
     "data": {
      "text/plain": [
       "(array([1., 1., 0., 0., 1., 1., 1., 0., 0., 3.]),\n",
       " array([-2070.8633624 , -1864.55987651, -1658.25639062, -1451.95290472,\n",
       "        -1245.64941883, -1039.34593294,  -833.04244705,  -626.73896115,\n",
       "         -420.43547526,  -214.13198937,    -7.82850347]),\n",
       " <BarContainer object of 10 artists>)"
      ]
     },
     "execution_count": 51,
     "metadata": {},
     "output_type": "execute_result"
    },
    {
     "data": {
      "image/png": "[encoded data removed]",
      "text/plain": [
       "<Figure size 432x288 with 1 Axes>"
      ]
     },
     "metadata": {
      "needs_background": "light"
     },
     "output_type": "display_data"
    }
   ],
   "source": [
    "#Plotting prediction to depict negative values\n",
    "plt.hist(y_pred1[y_pred1 < 0 ])"
   ]
  },
  {
   "cell_type": "markdown",
   "id": "a8e28614",
   "metadata": {},
   "source": [
    "<b> The lasso regression model will be dropped  due to the negative predicted energy consumption values. </b>"
   ]
  },
  {
   "cell_type": "markdown",
   "id": "225def84",
   "metadata": {},
   "source": [
    "### Prediction Model 5: Ridge Regression"
   ]
  },
  {
   "cell_type": "code",
   "execution_count": 52,
   "id": "f64ee32a",
   "metadata": {},
   "outputs": [
    {
     "data": {
      "text/plain": [
       "Ridge()"
      ]
     },
     "execution_count": 52,
     "metadata": {},
     "output_type": "execute_result"
    }
   ],
   "source": [
    "#Importing and initializing Ridge Regression\n",
    "ridge = Ridge()\n",
    "ridge.fit(X_train, y_train)"
   ]
  },
  {
   "cell_type": "code",
   "execution_count": 53,
   "id": "130e92ec",
   "metadata": {},
   "outputs": [
    {
     "name": "stdout",
     "output_type": "stream",
     "text": [
      "R squared of the Linear Regression on training set: 55.71%\n",
      "R squared of the Linear Regression on test set: 49.67%\n"
     ]
    }
   ],
   "source": [
    "#Calculating R squared for train and test data\n",
    "print(\"R squared of the Linear Regression on training set: {:.2%}\".format(ridge.score(X_train, y_train)))\n",
    "print(\"R squared of the Linear Regression on test set: {:.2%}\".format(ridge.score(X_test, y_test)))"
   ]
  },
  {
   "cell_type": "code",
   "execution_count": 54,
   "id": "101d66dd",
   "metadata": {},
   "outputs": [
    {
     "data": {
      "text/plain": [
       "<AxesSubplot:xlabel='KWH'>"
      ]
     },
     "execution_count": 54,
     "metadata": {},
     "output_type": "execute_result"
    },
    {
     "data": {
      "image/png": "[encoded data removed]",
      "text/plain": [
       "<Figure size 432x288 with 1 Axes>"
      ]
     },
     "metadata": {
      "needs_background": "light"
     },
     "output_type": "display_data"
    }
   ],
   "source": [
    "#Predicting on test data\n",
    "ridge_preds = ridge.predict(X_test)\n",
    "sns.scatterplot(x=y_test , y=ridge_preds, color=\"blue\")"
   ]
  },
  {
   "cell_type": "code",
   "execution_count": 55,
   "id": "2dc87bf5",
   "metadata": {},
   "outputs": [
    {
     "data": {
      "text/html": [
       "<div>\n",
       "<style scoped>\n",
       "    .dataframe tbody tr th:only-of-type {\n",
       "        vertical-align: middle;\n",
       "    }\n",
       "\n",
       "    .dataframe tbody tr th {\n",
       "        vertical-align: top;\n",
       "    }\n",
       "\n",
       "    .dataframe thead th {\n",
       "        text-align: right;\n",
       "    }\n",
       "</style>\n",
       "<table border=\"1\" class=\"dataframe\">\n",
       "  <thead>\n",
       "    <tr style=\"text-align: right;\">\n",
       "      <th></th>\n",
       "      <th>true</th>\n",
       "      <th>predicted</th>\n",
       "      <th>diff</th>\n",
       "    </tr>\n",
       "  </thead>\n",
       "  <tbody>\n",
       "    <tr>\n",
       "      <th>4538</th>\n",
       "      <td>15660.694</td>\n",
       "      <td>14276.639983</td>\n",
       "      <td>-1384.054017</td>\n",
       "    </tr>\n",
       "    <tr>\n",
       "      <th>1458</th>\n",
       "      <td>22464.928</td>\n",
       "      <td>23117.623790</td>\n",
       "      <td>652.695790</td>\n",
       "    </tr>\n",
       "    <tr>\n",
       "      <th>5586</th>\n",
       "      <td>6426.433</td>\n",
       "      <td>6215.671042</td>\n",
       "      <td>-210.761958</td>\n",
       "    </tr>\n",
       "    <tr>\n",
       "      <th>45</th>\n",
       "      <td>3104.036</td>\n",
       "      <td>6172.636248</td>\n",
       "      <td>3068.600248</td>\n",
       "    </tr>\n",
       "    <tr>\n",
       "      <th>648</th>\n",
       "      <td>5451.222</td>\n",
       "      <td>6124.433495</td>\n",
       "      <td>673.211495</td>\n",
       "    </tr>\n",
       "    <tr>\n",
       "      <th>...</th>\n",
       "      <td>...</td>\n",
       "      <td>...</td>\n",
       "      <td>...</td>\n",
       "    </tr>\n",
       "    <tr>\n",
       "      <th>1563</th>\n",
       "      <td>5235.000</td>\n",
       "      <td>7380.671073</td>\n",
       "      <td>2145.671073</td>\n",
       "    </tr>\n",
       "    <tr>\n",
       "      <th>4785</th>\n",
       "      <td>4480.097</td>\n",
       "      <td>2703.968571</td>\n",
       "      <td>-1776.128429</td>\n",
       "    </tr>\n",
       "    <tr>\n",
       "      <th>1975</th>\n",
       "      <td>7700.000</td>\n",
       "      <td>11226.659604</td>\n",
       "      <td>3526.659604</td>\n",
       "    </tr>\n",
       "    <tr>\n",
       "      <th>1361</th>\n",
       "      <td>12786.752</td>\n",
       "      <td>13847.959055</td>\n",
       "      <td>1061.207055</td>\n",
       "    </tr>\n",
       "    <tr>\n",
       "      <th>4519</th>\n",
       "      <td>5214.000</td>\n",
       "      <td>6086.908840</td>\n",
       "      <td>872.908840</td>\n",
       "    </tr>\n",
       "  </tbody>\n",
       "</table>\n",
       "<p>1131 rows × 3 columns</p>\n",
       "</div>"
      ],
      "text/plain": [
       "           true     predicted         diff\n",
       "4538  15660.694  14276.639983 -1384.054017\n",
       "1458  22464.928  23117.623790   652.695790\n",
       "5586   6426.433   6215.671042  -210.761958\n",
       "45     3104.036   6172.636248  3068.600248\n",
       "648    5451.222   6124.433495   673.211495\n",
       "...         ...           ...          ...\n",
       "1563   5235.000   7380.671073  2145.671073\n",
       "4785   4480.097   2703.968571 -1776.128429\n",
       "1975   7700.000  11226.659604  3526.659604\n",
       "1361  12786.752  13847.959055  1061.207055\n",
       "4519   5214.000   6086.908840   872.908840\n",
       "\n",
       "[1131 rows x 3 columns]"
      ]
     },
     "execution_count": 55,
     "metadata": {},
     "output_type": "execute_result"
    }
   ],
   "source": [
    "ri = {'true': y_test, 'predicted': ridge_preds}\n",
    "ri_ri = pd.DataFrame(data=l)\n",
    "ri_ri['diff'] = ri_ri['predicted']-ri_ri['true']\n",
    "ri_ri"
   ]
  },
  {
   "cell_type": "code",
   "execution_count": 56,
   "id": "f23ec66d",
   "metadata": {},
   "outputs": [
    {
     "name": "stdout",
     "output_type": "stream",
     "text": [
      "MAE: 3507.958263464081\n",
      "MSE: 24672758.929569025\n",
      "RMSE: 4967.168099588439\n"
     ]
    }
   ],
   "source": [
    "#Calculating metrics\n",
    "print('MAE:', metrics.mean_absolute_error(y_test, ridge_preds))\n",
    "print('MSE:', metrics.mean_squared_error(y_test, ridge_preds))\n",
    "print('RMSE:', np.sqrt(metrics.mean_squared_error(y_test, ridge_preds)))"
   ]
  },
  {
   "cell_type": "code",
   "execution_count": 57,
   "id": "b85a8b0a",
   "metadata": {},
   "outputs": [
    {
     "ename": "ValueError",
     "evalue": "Mean Squared Logarithmic Error cannot be used when targets contain negative values.",
     "output_type": "error",
     "traceback": [
      "\u001b[1;31m---------------------------------------------------------------------------\u001b[0m",
      "\u001b[1;31mValueError\u001b[0m                                Traceback (most recent call last)",
      "\u001b[1;32m~\\AppData\\Local\\Temp/ipykernel_24108/836093665.py\u001b[0m in \u001b[0;36m<module>\u001b[1;34m\u001b[0m\n\u001b[0;32m      1\u001b[0m \u001b[1;31m#Calculating Accuracy\u001b[0m\u001b[1;33m\u001b[0m\u001b[1;33m\u001b[0m\u001b[0m\n\u001b[1;32m----> 2\u001b[1;33m \u001b[0mprint\u001b[0m\u001b[1;33m(\u001b[0m\u001b[1;34m\"Mean Squared Log Error of the Random Forest on test set is {:.2%}\"\u001b[0m\u001b[1;33m.\u001b[0m\u001b[0mformat\u001b[0m\u001b[1;33m(\u001b[0m\u001b[0mmetrics\u001b[0m\u001b[1;33m.\u001b[0m\u001b[0mmean_squared_log_error\u001b[0m\u001b[1;33m(\u001b[0m\u001b[0my_test\u001b[0m\u001b[1;33m,\u001b[0m\u001b[0mridge_preds\u001b[0m\u001b[1;33m)\u001b[0m\u001b[1;33m)\u001b[0m\u001b[1;33m)\u001b[0m\u001b[1;33m\u001b[0m\u001b[1;33m\u001b[0m\u001b[0m\n\u001b[0m\u001b[0;32m      3\u001b[0m \u001b[0mprint\u001b[0m\u001b[1;33m(\u001b[0m\u001b[1;34m\"Accuracy {:.2%}\"\u001b[0m\u001b[1;33m.\u001b[0m\u001b[0mformat\u001b[0m\u001b[1;33m(\u001b[0m\u001b[1;36m1\u001b[0m\u001b[1;33m-\u001b[0m\u001b[0mmetrics\u001b[0m\u001b[1;33m.\u001b[0m\u001b[0mmean_squared_log_error\u001b[0m\u001b[1;33m(\u001b[0m\u001b[0my_test\u001b[0m\u001b[1;33m,\u001b[0m\u001b[0mridge_preds\u001b[0m\u001b[1;33m)\u001b[0m\u001b[1;33m)\u001b[0m\u001b[1;33m)\u001b[0m\u001b[1;33m\u001b[0m\u001b[1;33m\u001b[0m\u001b[0m\n",
      "\u001b[1;32m~\\anaconda3\\lib\\site-packages\\sklearn\\utils\\validation.py\u001b[0m in \u001b[0;36minner_f\u001b[1;34m(*args, **kwargs)\u001b[0m\n\u001b[0;32m     61\u001b[0m             \u001b[0mextra_args\u001b[0m \u001b[1;33m=\u001b[0m \u001b[0mlen\u001b[0m\u001b[1;33m(\u001b[0m\u001b[0margs\u001b[0m\u001b[1;33m)\u001b[0m \u001b[1;33m-\u001b[0m \u001b[0mlen\u001b[0m\u001b[1;33m(\u001b[0m\u001b[0mall_args\u001b[0m\u001b[1;33m)\u001b[0m\u001b[1;33m\u001b[0m\u001b[1;33m\u001b[0m\u001b[0m\n\u001b[0;32m     62\u001b[0m             \u001b[1;32mif\u001b[0m \u001b[0mextra_args\u001b[0m \u001b[1;33m<=\u001b[0m \u001b[1;36m0\u001b[0m\u001b[1;33m:\u001b[0m\u001b[1;33m\u001b[0m\u001b[1;33m\u001b[0m\u001b[0m\n\u001b[1;32m---> 63\u001b[1;33m                 \u001b[1;32mreturn\u001b[0m \u001b[0mf\u001b[0m\u001b[1;33m(\u001b[0m\u001b[1;33m*\u001b[0m\u001b[0margs\u001b[0m\u001b[1;33m,\u001b[0m \u001b[1;33m**\u001b[0m\u001b[0mkwargs\u001b[0m\u001b[1;33m)\u001b[0m\u001b[1;33m\u001b[0m\u001b[1;33m\u001b[0m\u001b[0m\n\u001b[0m\u001b[0;32m     64\u001b[0m \u001b[1;33m\u001b[0m\u001b[0m\n\u001b[0;32m     65\u001b[0m             \u001b[1;31m# extra_args > 0\u001b[0m\u001b[1;33m\u001b[0m\u001b[1;33m\u001b[0m\u001b[0m\n",
      "\u001b[1;32m~\\anaconda3\\lib\\site-packages\\sklearn\\metrics\\_regression.py\u001b[0m in \u001b[0;36mmean_squared_log_error\u001b[1;34m(y_true, y_pred, sample_weight, multioutput)\u001b[0m\n\u001b[0;32m    411\u001b[0m \u001b[1;33m\u001b[0m\u001b[0m\n\u001b[0;32m    412\u001b[0m     \u001b[1;32mif\u001b[0m \u001b[1;33m(\u001b[0m\u001b[0my_true\u001b[0m \u001b[1;33m<\u001b[0m \u001b[1;36m0\u001b[0m\u001b[1;33m)\u001b[0m\u001b[1;33m.\u001b[0m\u001b[0many\u001b[0m\u001b[1;33m(\u001b[0m\u001b[1;33m)\u001b[0m \u001b[1;32mor\u001b[0m \u001b[1;33m(\u001b[0m\u001b[0my_pred\u001b[0m \u001b[1;33m<\u001b[0m \u001b[1;36m0\u001b[0m\u001b[1;33m)\u001b[0m\u001b[1;33m.\u001b[0m\u001b[0many\u001b[0m\u001b[1;33m(\u001b[0m\u001b[1;33m)\u001b[0m\u001b[1;33m:\u001b[0m\u001b[1;33m\u001b[0m\u001b[1;33m\u001b[0m\u001b[0m\n\u001b[1;32m--> 413\u001b[1;33m         raise ValueError(\"Mean Squared Logarithmic Error cannot be used when \"\n\u001b[0m\u001b[0;32m    414\u001b[0m                          \"targets contain negative values.\")\n\u001b[0;32m    415\u001b[0m \u001b[1;33m\u001b[0m\u001b[0m\n",
      "\u001b[1;31mValueError\u001b[0m: Mean Squared Logarithmic Error cannot be used when targets contain negative values."
     ]
    }
   ],
   "source": [
    "#Calculating Accuracy\n",
    "print(\"Mean Squared Log Error of the Random Forest on test set is {:.2%}\".format(metrics.mean_squared_log_error(y_test,ridge_preds)))\n",
    "print(\"Accuracy {:.2%}\".format(1-metrics.mean_squared_log_error(y_test,ridge_preds)))"
   ]
  },
  {
   "cell_type": "code",
   "execution_count": 58,
   "id": "a0c7b4f0",
   "metadata": {},
   "outputs": [
    {
     "name": "stderr",
     "output_type": "stream",
     "text": [
      "C:\\Users\\yasha\\anaconda3\\lib\\site-packages\\seaborn\\distributions.py:2619: FutureWarning: `distplot` is a deprecated function and will be removed in a future version. Please adapt your code to use either `displot` (a figure-level function with similar flexibility) or `histplot` (an axes-level function for histograms).\n",
      "  warnings.warn(msg, FutureWarning)\n"
     ]
    },
    {
     "data": {
      "image/png": "[encoded data removed]",
      "text/plain": [
       "<Figure size 432x288 with 1 Axes>"
      ]
     },
     "metadata": {
      "needs_background": "light"
     },
     "output_type": "display_data"
    }
   ],
   "source": [
    "#Plotting prediction to depict negative values \n",
    "sns.distplot((ridge_preds-y_test),bins=50, color= \"blue\");"
   ]
  },
  {
   "cell_type": "code",
   "execution_count": 59,
   "id": "e2fb2055",
   "metadata": {},
   "outputs": [
    {
     "data": {
      "text/plain": [
       "(array([1., 1., 0., 0., 1., 2., 0., 0., 0., 1.]),\n",
       " array([-2072.15910732, -1871.58234921, -1671.00559109, -1470.42883298,\n",
       "        -1269.85207487, -1069.27531676,  -868.69855864,  -668.12180053,\n",
       "         -467.54504242,  -266.9682843 ,   -66.39152619]),\n",
       " <BarContainer object of 10 artists>)"
      ]
     },
     "execution_count": 59,
     "metadata": {},
     "output_type": "execute_result"
    },
    {
     "data": {
      "image/png": "[encoded data removed]",
      "text/plain": [
       "<Figure size 432x288 with 1 Axes>"
      ]
     },
     "metadata": {
      "needs_background": "light"
     },
     "output_type": "display_data"
    }
   ],
   "source": [
    "#Plotting prediction to depict negative values\n",
    "plt.hist(ridge_preds[ridge_preds < 0 ])"
   ]
  },
  {
   "cell_type": "markdown",
   "id": "130cc403",
   "metadata": {},
   "source": [
    "<b> The ridge regression model will be dropped due to the negative predicted energy consumption values. </b>"
   ]
  },
  {
   "cell_type": "markdown",
   "id": "2a65e4a3",
   "metadata": {},
   "source": [
    "### Prediction Model 6: XG Boost"
   ]
  },
  {
   "cell_type": "code",
   "execution_count": 60,
   "id": "661de85e",
   "metadata": {},
   "outputs": [
    {
     "data": {
      "text/plain": [
       "XGBRegressor(base_score=0.5, booster='gbtree', callbacks=None,\n",
       "             colsample_bylevel=1, colsample_bynode=1, colsample_bytree=1,\n",
       "             early_stopping_rounds=None, enable_categorical=False,\n",
       "             eval_metric=None, gamma=0, gpu_id=-1, grow_policy='depthwise',\n",
       "             importance_type=None, interaction_constraints='',\n",
       "             learning_rate=0.300000012, max_bin=256, max_cat_to_onehot=4,\n",
       "             max_delta_step=0, max_depth=6, max_leaves=0, min_child_weight=1,\n",
       "             missing=nan, monotone_constraints='()', n_estimators=100, n_jobs=0,\n",
       "             num_parallel_tree=1, predictor='auto', random_state=0, reg_alpha=0,\n",
       "             reg_lambda=1, ...)"
      ]
     },
     "execution_count": 60,
     "metadata": {},
     "output_type": "execute_result"
    }
   ],
   "source": [
    "#Importing and initializing XG Boost\n",
    "xgboo = xgb.XGBRegressor()\n",
    "xgboo.fit(X_train,y_train)"
   ]
  },
  {
   "cell_type": "code",
   "execution_count": 61,
   "id": "119be813",
   "metadata": {},
   "outputs": [
    {
     "data": {
      "text/plain": [
       "<AxesSubplot:xlabel='KWH'>"
      ]
     },
     "execution_count": 61,
     "metadata": {},
     "output_type": "execute_result"
    },
    {
     "data": {
      "image/png": "[encoded data removed]",
      "text/plain": [
       "<Figure size 432x288 with 1 Axes>"
      ]
     },
     "metadata": {
      "needs_background": "light"
     },
     "output_type": "display_data"
    }
   ],
   "source": [
    "#Predicting on test data\n",
    "y_pred_xg = xgboo.predict(X_test)\n",
    "sns.scatterplot(x=y_test , y=y_pred_xg, color=\"blue\")"
   ]
  },
  {
   "cell_type": "code",
   "execution_count": 62,
   "id": "fd4c1ea3",
   "metadata": {},
   "outputs": [
    {
     "data": {
      "text/html": [
       "<div>\n",
       "<style scoped>\n",
       "    .dataframe tbody tr th:only-of-type {\n",
       "        vertical-align: middle;\n",
       "    }\n",
       "\n",
       "    .dataframe tbody tr th {\n",
       "        vertical-align: top;\n",
       "    }\n",
       "\n",
       "    .dataframe thead th {\n",
       "        text-align: right;\n",
       "    }\n",
       "</style>\n",
       "<table border=\"1\" class=\"dataframe\">\n",
       "  <thead>\n",
       "    <tr style=\"text-align: right;\">\n",
       "      <th></th>\n",
       "      <th>true</th>\n",
       "      <th>predicted</th>\n",
       "      <th>diff</th>\n",
       "    </tr>\n",
       "  </thead>\n",
       "  <tbody>\n",
       "    <tr>\n",
       "      <th>4538</th>\n",
       "      <td>15660.694</td>\n",
       "      <td>14276.639983</td>\n",
       "      <td>-1384.054017</td>\n",
       "    </tr>\n",
       "    <tr>\n",
       "      <th>1458</th>\n",
       "      <td>22464.928</td>\n",
       "      <td>23117.623790</td>\n",
       "      <td>652.695790</td>\n",
       "    </tr>\n",
       "    <tr>\n",
       "      <th>5586</th>\n",
       "      <td>6426.433</td>\n",
       "      <td>6215.671042</td>\n",
       "      <td>-210.761958</td>\n",
       "    </tr>\n",
       "    <tr>\n",
       "      <th>45</th>\n",
       "      <td>3104.036</td>\n",
       "      <td>6172.636248</td>\n",
       "      <td>3068.600248</td>\n",
       "    </tr>\n",
       "    <tr>\n",
       "      <th>648</th>\n",
       "      <td>5451.222</td>\n",
       "      <td>6124.433495</td>\n",
       "      <td>673.211495</td>\n",
       "    </tr>\n",
       "    <tr>\n",
       "      <th>...</th>\n",
       "      <td>...</td>\n",
       "      <td>...</td>\n",
       "      <td>...</td>\n",
       "    </tr>\n",
       "    <tr>\n",
       "      <th>1563</th>\n",
       "      <td>5235.000</td>\n",
       "      <td>7380.671073</td>\n",
       "      <td>2145.671073</td>\n",
       "    </tr>\n",
       "    <tr>\n",
       "      <th>4785</th>\n",
       "      <td>4480.097</td>\n",
       "      <td>2703.968571</td>\n",
       "      <td>-1776.128429</td>\n",
       "    </tr>\n",
       "    <tr>\n",
       "      <th>1975</th>\n",
       "      <td>7700.000</td>\n",
       "      <td>11226.659604</td>\n",
       "      <td>3526.659604</td>\n",
       "    </tr>\n",
       "    <tr>\n",
       "      <th>1361</th>\n",
       "      <td>12786.752</td>\n",
       "      <td>13847.959055</td>\n",
       "      <td>1061.207055</td>\n",
       "    </tr>\n",
       "    <tr>\n",
       "      <th>4519</th>\n",
       "      <td>5214.000</td>\n",
       "      <td>6086.908840</td>\n",
       "      <td>872.908840</td>\n",
       "    </tr>\n",
       "  </tbody>\n",
       "</table>\n",
       "<p>1131 rows × 3 columns</p>\n",
       "</div>"
      ],
      "text/plain": [
       "           true     predicted         diff\n",
       "4538  15660.694  14276.639983 -1384.054017\n",
       "1458  22464.928  23117.623790   652.695790\n",
       "5586   6426.433   6215.671042  -210.761958\n",
       "45     3104.036   6172.636248  3068.600248\n",
       "648    5451.222   6124.433495   673.211495\n",
       "...         ...           ...          ...\n",
       "1563   5235.000   7380.671073  2145.671073\n",
       "4785   4480.097   2703.968571 -1776.128429\n",
       "1975   7700.000  11226.659604  3526.659604\n",
       "1361  12786.752  13847.959055  1061.207055\n",
       "4519   5214.000   6086.908840   872.908840\n",
       "\n",
       "[1131 rows x 3 columns]"
      ]
     },
     "execution_count": 62,
     "metadata": {},
     "output_type": "execute_result"
    }
   ],
   "source": [
    "xb = {'true': y_test, 'predicted': y_pred_xg}\n",
    "xbxb = pd.DataFrame(data=l)\n",
    "xbxb['diff'] = xbxb['predicted']-xbxb['true']\n",
    "xbxb"
   ]
  },
  {
   "cell_type": "code",
   "execution_count": 63,
   "id": "52ba871d",
   "metadata": {},
   "outputs": [
    {
     "name": "stdout",
     "output_type": "stream",
     "text": [
      "MAE: 3762.1932488330463\n",
      "MSE: 29074939.836978633\n",
      "RMSE: 5392.11830702727\n"
     ]
    }
   ],
   "source": [
    "#Calculating metrics\n",
    "print('MAE:', metrics.mean_absolute_error(y_test, y_pred_xg))\n",
    "print('MSE:', metrics.mean_squared_error(y_test, y_pred_xg))\n",
    "print('RMSE:', np.sqrt(metrics.mean_squared_error(y_test, y_pred_xg)))"
   ]
  },
  {
   "cell_type": "code",
   "execution_count": 64,
   "id": "26cace2c",
   "metadata": {},
   "outputs": [
    {
     "name": "stdout",
     "output_type": "stream",
     "text": [
      "Mean Squared Log Error of the Random Forest on test set is 23.26%\n",
      "Accuracy 76.74%\n"
     ]
    }
   ],
   "source": [
    "#Calculating Accuracy\n",
    "print(\"Mean Squared Log Error of the Random Forest on test set is {:.2%}\".format(metrics.mean_squared_log_error(y_test,y_pred_xg)))\n",
    "print(\"Accuracy {:.2%}\".format(1-metrics.mean_squared_log_error(y_test,y_pred_xg)))"
   ]
  },
  {
   "cell_type": "code",
   "execution_count": 65,
   "id": "5906ffa0",
   "metadata": {},
   "outputs": [
    {
     "name": "stderr",
     "output_type": "stream",
     "text": [
      "C:\\Users\\yasha\\anaconda3\\lib\\site-packages\\seaborn\\distributions.py:2619: FutureWarning: `distplot` is a deprecated function and will be removed in a future version. Please adapt your code to use either `displot` (a figure-level function with similar flexibility) or `histplot` (an axes-level function for histograms).\n",
      "  warnings.warn(msg, FutureWarning)\n"
     ]
    },
    {
     "data": {
      "image/png": "[encoded data removed]",
      "text/plain": [
       "<Figure size 432x288 with 1 Axes>"
      ]
     },
     "metadata": {
      "needs_background": "light"
     },
     "output_type": "display_data"
    }
   ],
   "source": [
    "#Plotting prediction to depict negative values \n",
    "sns.distplot((y_pred_xg-y_test),bins=50, color= \"blue\");"
   ]
  },
  {
   "cell_type": "code",
   "execution_count": 66,
   "id": "8e61c616",
   "metadata": {},
   "outputs": [
    {
     "data": {
      "text/plain": [
       "(array([0., 0., 0., 0., 0., 0., 0., 0., 0., 0.]),\n",
       " array([0. , 0.1, 0.2, 0.3, 0.4, 0.5, 0.6, 0.7, 0.8, 0.9, 1. ]),\n",
       " <BarContainer object of 10 artists>)"
      ]
     },
     "execution_count": 66,
     "metadata": {},
     "output_type": "execute_result"
    },
    {
     "data": {
      "image/png": "[encoded data removed]",
      "text/plain": [
       "<Figure size 432x288 with 1 Axes>"
      ]
     },
     "metadata": {
      "needs_background": "light"
     },
     "output_type": "display_data"
    }
   ],
   "source": [
    "#Plotting prediction to depict negative values\n",
    "plt.hist(y_pred_xg[y_pred_xg < 0 ])"
   ]
  },
  {
   "cell_type": "markdown",
   "id": "9a3701e2",
   "metadata": {},
   "source": [
    "<b> The XG Boost model will be dropped due to the negative predicted energy consumption values. </b>"
   ]
  },
  {
   "cell_type": "markdown",
   "id": "bc700a7a",
   "metadata": {},
   "source": [
    "### Performance Comparison"
   ]
  },
  {
   "cell_type": "code",
   "execution_count": 67,
   "id": "db255ab8",
   "metadata": {},
   "outputs": [
    {
     "data": {
      "text/html": [
       "<div>\n",
       "<style scoped>\n",
       "    .dataframe tbody tr th:only-of-type {\n",
       "        vertical-align: middle;\n",
       "    }\n",
       "\n",
       "    .dataframe tbody tr th {\n",
       "        vertical-align: top;\n",
       "    }\n",
       "\n",
       "    .dataframe thead th {\n",
       "        text-align: right;\n",
       "    }\n",
       "</style>\n",
       "<table border=\"1\" class=\"dataframe\">\n",
       "  <thead>\n",
       "    <tr style=\"text-align: right;\">\n",
       "      <th></th>\n",
       "      <th>Model</th>\n",
       "      <th>Accuracy</th>\n",
       "    </tr>\n",
       "  </thead>\n",
       "  <tbody>\n",
       "    <tr>\n",
       "      <th>0</th>\n",
       "      <td>Random Forest Regressor</td>\n",
       "      <td>0.797426</td>\n",
       "    </tr>\n",
       "    <tr>\n",
       "      <th>1</th>\n",
       "      <td>KNN Regressor</td>\n",
       "      <td>0.713164</td>\n",
       "    </tr>\n",
       "    <tr>\n",
       "      <th>2</th>\n",
       "      <td>Decision Regressor</td>\n",
       "      <td>0.577542</td>\n",
       "    </tr>\n",
       "    <tr>\n",
       "      <th>3</th>\n",
       "      <td>XG Boost</td>\n",
       "      <td>0.767442</td>\n",
       "    </tr>\n",
       "  </tbody>\n",
       "</table>\n",
       "</div>"
      ],
      "text/plain": [
       "                     Model  Accuracy\n",
       "0  Random Forest Regressor  0.797426\n",
       "1           KNN Regressor   0.713164\n",
       "2       Decision Regressor  0.577542\n",
       "3                 XG Boost  0.767442"
      ]
     },
     "execution_count": 67,
     "metadata": {},
     "output_type": "execute_result"
    }
   ],
   "source": [
    "#Printing Performance Comparison as a table\n",
    "perf = pd.DataFrame({\"Model\":[\"Random Forest Regressor\", \"KNN Regressor \", \"Decision Regressor\", \"XG Boost\"], \n",
    "                     \"Accuracy {:.2%}\".format:[1-metrics.mean_squared_log_error(y_test,y_pred2), 1-metrics.mean_squared_log_error(y_test,y_pred3), 1-metrics.mean_squared_log_error(y_test,y_pred5), 1-metrics.mean_squared_log_error(y_test,y_pred_xg)]})\n",
    "perf.rename(columns={ perf.columns[1]: \"Accuracy\" }, inplace = True)\n",
    "perf"
   ]
  },
  {
   "cell_type": "markdown",
   "id": "57ad5de1",
   "metadata": {},
   "source": [
    "### Feature Importance"
   ]
  },
  {
   "cell_type": "code",
   "execution_count": 68,
   "id": "5d00f95f",
   "metadata": {
    "scrolled": false
   },
   "outputs": [
    {
     "data": {
      "image/png": "[encoded data removed]",
      "text/plain": [
       "<Figure size 720x720 with 1 Axes>"
      ]
     },
     "metadata": {
      "needs_background": "light"
     },
     "output_type": "display_data"
    }
   ],
   "source": [
    "#Top 10 most important features based on best model i.e., Random Forest Regressor\n",
    "plt.figure(figsize=(10,10))\n",
    "plot_df = pd.DataFrame({'feature': X_train.columns, 'importance': rf.feature_importances_})\n",
    "sns.barplot(x='importance', y='feature', data=plot_df.sort_values('importance', ascending=False)[:10],\n",
    "            color='b')\n",
    "plt.xticks(rotation=90);"
   ]
  },
  {
   "cell_type": "code",
   "execution_count": 77,
   "id": "f3afdaea",
   "metadata": {},
   "outputs": [],
   "source": [
    "import shap\n",
    "explainer = shap.TreeExplainer(rf)\n",
    "shap_values = explainer.shap_values(X_test)"
   ]
  },
  {
   "cell_type": "code",
   "execution_count": 78,
   "id": "11aa7d37",
   "metadata": {},
   "outputs": [
    {
     "data": {
      "image/png": "[encoded data removed]",
      "text/plain": [
       "<Figure size 576x684 with 2 Axes>"
      ]
     },
     "metadata": {
      "needs_background": "light"
     },
     "output_type": "display_data"
    }
   ],
   "source": [
    "shap.summary_plot(shap_values, X_test)"
   ]
  }
 ],
 "metadata": {
  "kernelspec": {
   "display_name": "Python 3 (ipykernel)",
   "language": "python",
   "name": "python3"
  },
  "language_info": {
   "codemirror_mode": {
    "name": "ipython",
    "version": 3
   },
   "file_extension": ".py",
   "mimetype": "text/x-python",
   "name": "python",
   "nbconvert_exporter": "python",
   "pygments_lexer": "ipython3",
   "version": "3.9.7"
  }
 },
 "nbformat": 4,
 "nbformat_minor": 5
}
